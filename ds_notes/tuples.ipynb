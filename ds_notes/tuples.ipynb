{
 "cells": [
  {
   "cell_type": "markdown",
   "id": "1130b0f3",
   "metadata": {},
   "source": [
    "# Tuples\n",
    "\n",
    "1. Tuples are an ordered collection of items and are immutable (non-editable) i.e, their elements can't be changed once assigned\n",
    "\n",
    "2. Tuples can have different elements with different data types"
   ]
  },
  {
   "cell_type": "code",
   "execution_count": 2,
   "id": "9fddeb3c",
   "metadata": {},
   "outputs": [
    {
     "name": "stdout",
     "output_type": "stream",
     "text": [
      "<class 'tuple'>\n",
      "(1, 2, 3, 4, 5)\n"
     ]
    }
   ],
   "source": [
    "# creating a tuple\n",
    "\n",
    "tup = (1,2,3,4,5)\n",
    "print(type(tup))\n",
    "print(tup)"
   ]
  },
  {
   "cell_type": "code",
   "execution_count": null,
   "id": "34f9042e",
   "metadata": {},
   "outputs": [
    {
     "name": "stdout",
     "output_type": "stream",
     "text": [
      "('a', 'b', 'c')\n",
      "<class 'tuple'>\n",
      "['a', 'b', 'c']\n",
      "<class 'list'>\n"
     ]
    }
   ],
   "source": [
    "# tup to list and vice-versa\n",
    "tup = ('a','b','c')\n",
    "print(tup)\n",
    "print(type(tup))\n",
    "lst = list(tup)\n",
    "print(lst)\n",
    "print(type(lst))"
   ]
  },
  {
   "cell_type": "code",
   "execution_count": null,
   "id": "5ba3941e",
   "metadata": {},
   "outputs": [
    {
     "data": {
      "text/plain": [
       "(1, 2, 3, 4, 5, 'Hello', 'World', 'Welcome', 'Back')"
      ]
     },
     "execution_count": 3,
     "metadata": {},
     "output_type": "execute_result"
    }
   ],
   "source": [
    "# Tuple Operations\n",
    "tup1 = (1,2,3,4,5)\n",
    "tup2 = (\"Hello\", \"World\", \"Welcome\", \"Back\")\n",
    "tup1 + tup2"
   ]
  },
  {
   "cell_type": "code",
   "execution_count": 5,
   "id": "996d42f2",
   "metadata": {},
   "outputs": [
    {
     "data": {
      "text/plain": [
       "'Hello Python Hello Python Hello Python '"
      ]
     },
     "execution_count": 5,
     "metadata": {},
     "output_type": "execute_result"
    }
   ],
   "source": [
    "tup = (\"Hello Python \")\n",
    "tup * 3"
   ]
  },
  {
   "cell_type": "markdown",
   "id": "7ffe4cbb",
   "metadata": {},
   "source": [
    "#### Immutability in Tuples"
   ]
  },
  {
   "cell_type": "code",
   "execution_count": null,
   "id": "2bb83413",
   "metadata": {},
   "outputs": [
    {
     "name": "stdout",
     "output_type": "stream",
     "text": [
      "[1, 2, 'Dora', 4, 5]\n",
      "<class 'list'>\n"
     ]
    }
   ],
   "source": [
    "# lists\n",
    "lst = [1,2,3,4,5]\n",
    "lst[2] = \"Dora\"\n",
    "print(lst)\n",
    "print(type(lst))"
   ]
  },
  {
   "cell_type": "code",
   "execution_count": null,
   "id": "26cc6e45",
   "metadata": {},
   "outputs": [
    {
     "ename": "TypeError",
     "evalue": "'tuple' object does not support item assignment",
     "output_type": "error",
     "traceback": [
      "\u001b[0;31m---------------------------------------------------------------------------\u001b[0m",
      "\u001b[0;31mTypeError\u001b[0m                                 Traceback (most recent call last)",
      "Cell \u001b[0;32mIn[8], line 4\u001b[0m\n\u001b[1;32m      1\u001b[0m \u001b[38;5;66;03m# tuples\u001b[39;00m\n\u001b[1;32m      3\u001b[0m tup \u001b[38;5;241m=\u001b[39m (\u001b[38;5;241m1\u001b[39m,\u001b[38;5;241m2\u001b[39m,\u001b[38;5;241m3\u001b[39m,\u001b[38;5;241m4\u001b[39m,\u001b[38;5;241m5\u001b[39m)\n\u001b[0;32m----> 4\u001b[0m tup[\u001b[38;5;241m2\u001b[39m] \u001b[38;5;241m=\u001b[39m \u001b[38;5;124m\"\u001b[39m\u001b[38;5;124mDora\u001b[39m\u001b[38;5;124m\"\u001b[39m\n\u001b[1;32m      5\u001b[0m \u001b[38;5;28mprint\u001b[39m(tup)\n",
      "\u001b[0;31mTypeError\u001b[0m: 'tuple' object does not support item assignment"
     ]
    }
   ],
   "source": [
    "# tuples\n",
    "tup = (1,2,3,4,5)\n",
    "tup[2] = \"Dora\"\n",
    "print(tup)"
   ]
  },
  {
   "cell_type": "markdown",
   "id": "07c13f27",
   "metadata": {},
   "source": [
    "#### Tuples Methods\n",
    "\n",
    "1. The main difference between a function and method is that: \n",
    "\n",
    "        a functioon is a block of code that can be called by a name\n",
    "\n",
    "        whereas a method is a function that is asscoaited with the object (usually a class instance)"
   ]
  },
  {
   "cell_type": "code",
   "execution_count": 13,
   "id": "d4f67316",
   "metadata": {},
   "outputs": [
    {
     "name": "stdout",
     "output_type": "stream",
     "text": [
      "1\n",
      "2\n"
     ]
    }
   ],
   "source": [
    "numbers = (1,2,3,4,5,6,3,8,9,10)\n",
    "print(numbers.count(1)) # no. of times the value is occured in the tuple\n",
    "print(numbers.index(3)) # first occuarance of a specified value"
   ]
  },
  {
   "cell_type": "markdown",
   "id": "8dbbeeb2",
   "metadata": {},
   "source": [
    "#### # Packing and Unpacking Tuple\n"
   ]
  },
  {
   "cell_type": "code",
   "execution_count": null,
   "id": "c174d660",
   "metadata": {},
   "outputs": [
    {
     "name": "stdout",
     "output_type": "stream",
     "text": [
      "(1, 'Hello World', 'Welcome', 5)\n",
      "<class 'tuple'>\n"
     ]
    }
   ],
   "source": [
    "# Packing a Tuple\n",
    "packed_tuple = 1,\"Hello World\", \"Welcome\",5\n",
    "print(packed_tuple)\n",
    "print(type(packed_tuple))"
   ]
  },
  {
   "cell_type": "code",
   "execution_count": null,
   "id": "1db95db8",
   "metadata": {},
   "outputs": [
    {
     "name": "stdout",
     "output_type": "stream",
     "text": [
      "1\n",
      "Hello World\n",
      "Welcome\n",
      "5\n"
     ]
    }
   ],
   "source": [
    "# Unpacking a tuple\n",
    "a,b,c,d = packed_tuple\n",
    "print(a)\n",
    "print(b)\n",
    "print(c)\n",
    "print(d)"
   ]
  },
  {
   "cell_type": "code",
   "execution_count": 17,
   "id": "47e42543",
   "metadata": {},
   "outputs": [
    {
     "name": "stdout",
     "output_type": "stream",
     "text": [
      "1\n",
      "['Hello World', 'Welcome']\n",
      "5\n"
     ]
    }
   ],
   "source": [
    "# Unpacking with * [* takes the remaining elements after assigning all the variables]\n",
    "first, *middle, last = packed_tuple\n",
    "print(first)\n",
    "print(middle)\n",
    "print(last)"
   ]
  },
  {
   "cell_type": "markdown",
   "id": "11306577",
   "metadata": {},
   "source": [
    "#### Nested Tuples"
   ]
  },
  {
   "cell_type": "code",
   "execution_count": 24,
   "id": "15566540",
   "metadata": {},
   "outputs": [
    {
     "name": "stdout",
     "output_type": "stream",
     "text": [
      "('Hello', 5)\n"
     ]
    }
   ],
   "source": [
    "# Indexing the nested tuples\n",
    "tup = ((1,2,3),(\"Hello\",5,\"Welcome\"),\"Python\", 10)\n",
    "print(tup[1][:2])"
   ]
  },
  {
   "cell_type": "code",
   "execution_count": 26,
   "id": "b73952cc",
   "metadata": {},
   "outputs": [
    {
     "name": "stdout",
     "output_type": "stream",
     "text": [
      "1 2 3 \n",
      "Hello 5 Welcome \n",
      "P y t h o n \n"
     ]
    },
    {
     "ename": "TypeError",
     "evalue": "'int' object is not iterable",
     "output_type": "error",
     "traceback": [
      "\u001b[0;31m---------------------------------------------------------------------------\u001b[0m",
      "\u001b[0;31mTypeError\u001b[0m                                 Traceback (most recent call last)",
      "Cell \u001b[0;32mIn[26], line 3\u001b[0m\n\u001b[1;32m      1\u001b[0m \u001b[38;5;66;03m# Iterating through the tuples\u001b[39;00m\n\u001b[1;32m      2\u001b[0m \u001b[38;5;28;01mfor\u001b[39;00m sub_tup \u001b[38;5;129;01min\u001b[39;00m tup:\n\u001b[0;32m----> 3\u001b[0m     \u001b[38;5;28;01mfor\u001b[39;00m item \u001b[38;5;129;01min\u001b[39;00m sub_tup:\n\u001b[1;32m      4\u001b[0m         \u001b[38;5;28mprint\u001b[39m(item, end\u001b[38;5;241m=\u001b[39m\u001b[38;5;124m\"\u001b[39m\u001b[38;5;124m \u001b[39m\u001b[38;5;124m\"\u001b[39m)\n\u001b[1;32m      5\u001b[0m     \u001b[38;5;28mprint\u001b[39m()\n",
      "\u001b[0;31mTypeError\u001b[0m: 'int' object is not iterable"
     ]
    }
   ],
   "source": [
    "# Iterating through the tuples\n",
    "for sub_tup in tup:\n",
    "    for item in sub_tup:\n",
    "        print(item, end=\" \")\n",
    "    print()"
   ]
  },
  {
   "cell_type": "markdown",
   "id": "d15945a6",
   "metadata": {},
   "source": [
    "### Conclusion\n",
    "\n",
    "1. Tuples are versatile and useful in many real world scenarios where immutability and ordered collection of items is required.\n",
    "\n",
    "2. They are mostly used in data structures, functions arguments and return values and as dictionary keys.\n"
   ]
  },
  {
   "cell_type": "markdown",
   "id": "e17014f8",
   "metadata": {},
   "source": []
  }
 ],
 "metadata": {
  "kernelspec": {
   "display_name": "base",
   "language": "python",
   "name": "python3"
  },
  "language_info": {
   "codemirror_mode": {
    "name": "ipython",
    "version": 3
   },
   "file_extension": ".py",
   "mimetype": "text/x-python",
   "name": "python",
   "nbconvert_exporter": "python",
   "pygments_lexer": "ipython3",
   "version": "3.12.7"
  }
 },
 "nbformat": 4,
 "nbformat_minor": 5
}
