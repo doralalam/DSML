{
 "cells": [
  {
   "cell_type": "markdown",
   "id": "14bbd70b",
   "metadata": {},
   "source": [
    "### File Paths\n",
    "\n",
    "1. Absolute Path:   This path is from the root level\n",
    "\n",
    "2. Relative Path:   This path is in reference with the current working directory"
   ]
  },
  {
   "cell_type": "code",
   "execution_count": 2,
   "id": "0e44a164",
   "metadata": {},
   "outputs": [
    {
     "name": "stdout",
     "output_type": "stream",
     "text": [
      "/Users/dorababulalam/GitHub/DSML/ds_notes/file_handling\n"
     ]
    }
   ],
   "source": [
    "## To print the current working directory\n",
    "import os\n",
    "print(os.getcwd())"
   ]
  },
  {
   "cell_type": "code",
   "execution_count": null,
   "id": "aec73763",
   "metadata": {},
   "outputs": [],
   "source": [
    "## To create a new directory\n",
    "import os\n",
    "os.mkdir(\"New_Dir\")"
   ]
  },
  {
   "cell_type": "code",
   "execution_count": 6,
   "id": "a58b7ac9",
   "metadata": {},
   "outputs": [
    {
     "name": "stdout",
     "output_type": "stream",
     "text": [
      "['destination.txt', 'file_paths.ipynb', 'New_Dir', 'example.bin', 'example.txt', 'file_operations.ipynb']\n"
     ]
    }
   ],
   "source": [
    "## Listing files and directories\n",
    "import os\n",
    "## '.' indicates the current working directory\n",
    "items = os.listdir('.')\n",
    "print(items)"
   ]
  },
  {
   "cell_type": "code",
   "execution_count": 11,
   "id": "509de975",
   "metadata": {},
   "outputs": [
    {
     "name": "stdout",
     "output_type": "stream",
     "text": [
      "/Users/dorababulalam/GitHub/DSML/ds_notes/file_handling/join_folder/join.txt\n",
      "join_folder/join.txt\n",
      "/Users/dorababulalam/GitHub/DSML/ds_notes/file_handling/join.txt\n"
     ]
    }
   ],
   "source": [
    "## Joining the paths\n",
    "import os\n",
    "dir_name = \"join_folder\"\n",
    "file_name = \"join.txt\"\n",
    "full_path = os.path.join(os.getcwd(), dir_name, file_name)\n",
    "relative_path = os.path.join(dir_name, file_name)\n",
    "absolute_path = os.path.abspath(file_name)\n",
    "print(full_path)\n",
    "print(relative_path)\n",
    "print(absolute_path)\n"
   ]
  },
  {
   "cell_type": "code",
   "execution_count": 14,
   "id": "a6ab4c52",
   "metadata": {},
   "outputs": [
    {
     "name": "stdout",
     "output_type": "stream",
     "text": [
      "The path example.txt exists\n"
     ]
    }
   ],
   "source": [
    "## To check if the path exist\n",
    "import os\n",
    "path = \"example.txt\"\n",
    "if os.path.exists(path):\n",
    "    print(f\"The path {path} exists\")\n",
    "else:\n",
    "    print(f\"The path doesn't exist\")"
   ]
  },
  {
   "cell_type": "code",
   "execution_count": 16,
   "id": "e552ec06",
   "metadata": {},
   "outputs": [
    {
     "name": "stdout",
     "output_type": "stream",
     "text": [
      "Given path example.txt is a file\n"
     ]
    }
   ],
   "source": [
    "## To check if the path is a folder or a file\n",
    "import os\n",
    "path = 'example.txt'\n",
    "if os.path.isdir(path):\n",
    "    print(f\"Given path {path} is a folder\")\n",
    "elif os.path.isfile(path):\n",
    "    print(f\"Given path {path} is a file\")\n",
    "else:\n",
    "    print(\"The given path is neither folder nor file\")"
   ]
  }
 ],
 "metadata": {
  "kernelspec": {
   "display_name": "base",
   "language": "python",
   "name": "python3"
  },
  "language_info": {
   "codemirror_mode": {
    "name": "ipython",
    "version": 3
   },
   "file_extension": ".py",
   "mimetype": "text/x-python",
   "name": "python",
   "nbconvert_exporter": "python",
   "pygments_lexer": "ipython3",
   "version": "3.12.7"
  }
 },
 "nbformat": 4,
 "nbformat_minor": 5
}
