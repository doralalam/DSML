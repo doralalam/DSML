{
 "cells": [
  {
   "cell_type": "markdown",
   "id": "7595991c",
   "metadata": {},
   "source": [
    "### Exception Handling\n",
    "\n",
    "Exception Handling in programming languages is used to handle the errors gracefully and take corrective actions without stopping the execution of the program."
   ]
  },
  {
   "cell_type": "markdown",
   "id": "40cf9414",
   "metadata": {},
   "source": [
    "#### What are Exceptions?\n",
    "\n",
    "Exceptions are the events that disrupts the normal flow of execution. They occuer when an error occur in the program exectuion. Common exceptions include:\n",
    "\n",
    "            ZeroDivisionError: Dividing by zero\n",
    "            FileNotFoundError: File not found\n",
    "            ValueError: Invalid Value\n",
    "            TypeError: Invalid Type"
   ]
  },
  {
   "cell_type": "code",
   "execution_count": 15,
   "id": "3394d7ed",
   "metadata": {},
   "outputs": [
    {
     "name": "stdout",
     "output_type": "stream",
     "text": [
      "name 'b' is not defined\n",
      "Please enter value for b\n"
     ]
    }
   ],
   "source": [
    "## Exception Handling using try, except blocks\n",
    "\n",
    "try:\n",
    "    a=b\n",
    "except NameError as e:\n",
    "    print(e)\n",
    "    print('Please enter value for b')"
   ]
  },
  {
   "cell_type": "markdown",
   "id": "f5fce35c",
   "metadata": {},
   "source": [
    "            NameError\n",
    "            ZeroDivisionError\n",
    "            ValueError\n",
    "            TypeError\n",
    "\n",
    "These are all derived from main exception class \"Exception\""
   ]
  },
  {
   "cell_type": "code",
   "execution_count": 19,
   "id": "fa8c2e87",
   "metadata": {},
   "outputs": [
    {
     "name": "stdout",
     "output_type": "stream",
     "text": [
      "division by zero\n",
      "This is from derived class exception\n"
     ]
    }
   ],
   "source": [
    "try:\n",
    "    result = 1/0\n",
    "    print(result)\n",
    "    a=b\n",
    "except ZeroDivisionError as e:\n",
    "    print(e)\n",
    "    print(\"This is from derived class exception\")\n",
    "except Exception as exp:\n",
    "    print(exp)\n",
    "    print('This is from main class excpetion')"
   ]
  },
  {
   "cell_type": "code",
   "execution_count": 26,
   "id": "08d49941",
   "metadata": {},
   "outputs": [
    {
     "name": "stdout",
     "output_type": "stream",
     "text": [
      "This is not a valid number\n"
     ]
    }
   ],
   "source": [
    "try:\n",
    "    num = int(input('Enter a number: '))\n",
    "    result = 10/num\n",
    "    print(result)\n",
    "except ValueError:\n",
    "    print('This is not a valid number')\n",
    "except ZeroDivisionError:\n",
    "    print('Enter denominator greater than 0')\n",
    "except Exception as e:\n",
    "    print(e)"
   ]
  },
  {
   "cell_type": "code",
   "execution_count": 28,
   "id": "92b33315",
   "metadata": {},
   "outputs": [
    {
     "name": "stdout",
     "output_type": "stream",
     "text": [
      "The result is 1.0\n"
     ]
    }
   ],
   "source": [
    "## try, except, else blocks\n",
    "\n",
    "try:\n",
    "    num = int(input('Enter a number: '))\n",
    "    result = 10/num\n",
    "except ValueError:\n",
    "    print('This is not a valid number')\n",
    "except ZeroDivisionError:\n",
    "    print('Enter denominator greater than 0')\n",
    "except Exception as e:\n",
    "    print(e)\n",
    "else:\n",
    "    print(f'The result is {result}')"
   ]
  },
  {
   "cell_type": "code",
   "execution_count": null,
   "id": "e4e4e51a",
   "metadata": {},
   "outputs": [
    {
     "name": "stdout",
     "output_type": "stream",
     "text": [
      "The result is 1.0\n",
      "Execution is completed\n"
     ]
    }
   ],
   "source": [
    "## try, except, else and finally\n",
    "\n",
    "try:\n",
    "    num = int(input('Enter a number: '))\n",
    "    result = 10/num\n",
    "except ValueError:\n",
    "    print('This is not a valid number')\n",
    "except ZeroDivisionError:\n",
    "    print('Enter denominator greater than 0')\n",
    "except Exception as e:\n",
    "    print(e)\n",
    "else:\n",
    "    print(f'The result is {result}')\n",
    "finally:\n",
    "    ## finally is like closing the connection of database\n",
    "    print('Execution is completed')"
   ]
  },
  {
   "cell_type": "code",
   "execution_count": 35,
   "id": "caa7d8ff",
   "metadata": {},
   "outputs": [
    {
     "name": "stdout",
     "output_type": "stream",
     "text": [
      "Hello world\n",
      "I am from the file \"example1.txt\"\n",
      "File is closed\n"
     ]
    }
   ],
   "source": [
    "## File Handling and Exception Handling\n",
    "\n",
    "try:\n",
    "    file = open('example1.txt', 'r')\n",
    "    content = file.read()\n",
    "    ## a=b\n",
    "    print(content)\n",
    "except FileNotFoundError:\n",
    "    print(\"File doesn't exist\")\n",
    "except Exception as e:\n",
    "    print(e)\n",
    "finally:\n",
    "    if 'file' in locals() or not file.closed():\n",
    "        file.close()\n",
    "        print('File is closed')"
   ]
  }
 ],
 "metadata": {
  "kernelspec": {
   "display_name": "base",
   "language": "python",
   "name": "python3"
  },
  "language_info": {
   "codemirror_mode": {
    "name": "ipython",
    "version": 3
   },
   "file_extension": ".py",
   "mimetype": "text/x-python",
   "name": "python",
   "nbconvert_exporter": "python",
   "pygments_lexer": "ipython3",
   "version": "3.12.7"
  }
 },
 "nbformat": 4,
 "nbformat_minor": 5
}
