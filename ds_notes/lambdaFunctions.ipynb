{
 "cells": [
  {
   "cell_type": "markdown",
   "id": "ccfa6b55",
   "metadata": {},
   "source": [
    "## Lambda Functions\n",
    "\n",
    "    1. Lambda functions are the small anonymous functions defined using lambda keyword\n",
    "\n",
    "    2. Lambda functions can have any number of arguments but only one expression\n",
    "\n",
    "    3. Commonly used for short operations or as arguments for higher order functions"
   ]
  },
  {
   "cell_type": "code",
   "execution_count": 2,
   "id": "2f6c0206",
   "metadata": {},
   "outputs": [
    {
     "data": {
      "text/plain": [
       "<function __main__.<lambda>(arguments)>"
      ]
     },
     "execution_count": 2,
     "metadata": {},
     "output_type": "execute_result"
    }
   ],
   "source": [
    "# Syntax\n",
    "lambda arguments: expression"
   ]
  },
  {
   "cell_type": "code",
   "execution_count": 8,
   "id": "eea17494",
   "metadata": {},
   "outputs": [
    {
     "name": "stdout",
     "output_type": "stream",
     "text": [
      "15\n",
      "<class 'function'>\n"
     ]
    }
   ],
   "source": [
    "# Example using regular function\n",
    "\n",
    "def addition(a,b):\n",
    "    return a+b\n",
    "\n",
    "print(addition(5,10))\n",
    "print(type(addition))"
   ]
  },
  {
   "cell_type": "code",
   "execution_count": 7,
   "id": "90ac95c5",
   "metadata": {},
   "outputs": [
    {
     "name": "stdout",
     "output_type": "stream",
     "text": [
      "120\n",
      "<class 'function'>\n"
     ]
    }
   ],
   "source": [
    "# Using Lambda function\n",
    "\n",
    "addition_lam = lambda x,y: x+y\n",
    "print(addition_lam(100,20))\n",
    "print(type(addition_lam))"
   ]
  },
  {
   "cell_type": "code",
   "execution_count": 16,
   "id": "611f067a",
   "metadata": {},
   "outputs": [
    {
     "name": "stdout",
     "output_type": "stream",
     "text": [
      "False\n",
      "True\n"
     ]
    }
   ],
   "source": [
    "# Even or not using regular functions\n",
    "def even(num):\n",
    "   return num%2==0\n",
    "\n",
    "print(even(9))\n",
    "print(even(200))"
   ]
  },
  {
   "cell_type": "code",
   "execution_count": 15,
   "id": "a2bc5586",
   "metadata": {},
   "outputs": [
    {
     "name": "stdout",
     "output_type": "stream",
     "text": [
      "False\n",
      "True\n"
     ]
    }
   ],
   "source": [
    "# Even or not using lambda functions\n",
    "is_even = lambda num: num%2==0\n",
    "print(is_even(5))\n",
    "print(is_even(100))"
   ]
  },
  {
   "cell_type": "code",
   "execution_count": 17,
   "id": "cdb77070",
   "metadata": {},
   "outputs": [
    {
     "name": "stdout",
     "output_type": "stream",
     "text": [
      "35\n"
     ]
    }
   ],
   "source": [
    "# Regular function with multiple parameters\n",
    "def add(x,y,z):\n",
    "    return x+y+z\n",
    "\n",
    "print(add(10,20,5))"
   ]
  },
  {
   "cell_type": "code",
   "execution_count": 18,
   "id": "3657bece",
   "metadata": {},
   "outputs": [
    {
     "name": "stdout",
     "output_type": "stream",
     "text": [
      "30\n"
     ]
    }
   ],
   "source": [
    "# Lambda function using multiple parameters\n",
    "add_lam = lambda x,y,z:x+y+z\n",
    "print(add_lam(5,10,15))"
   ]
  },
  {
   "cell_type": "code",
   "execution_count": 21,
   "id": "27151048",
   "metadata": {},
   "outputs": [
    {
     "name": "stdout",
     "output_type": "stream",
     "text": [
      "[1, 4, 9, 16, 25, 36]\n"
     ]
    }
   ],
   "source": [
    "# Example\n",
    "numbers = [1,2,3,4,5,6]\n",
    "\n",
    "def squares(numbers):\n",
    "    sq_num =[]\n",
    "    for num in numbers:\n",
    "        sq_num.append(num**2)\n",
    "    return sq_num\n",
    "\n",
    "print(squares(numbers))\n"
   ]
  },
  {
   "cell_type": "code",
   "execution_count": 26,
   "id": "ab92c3e1",
   "metadata": {},
   "outputs": [
    {
     "data": {
      "text/plain": [
       "[1, 4, 9, 16, 25, 36]"
      ]
     },
     "execution_count": 26,
     "metadata": {},
     "output_type": "execute_result"
    }
   ],
   "source": [
    "# Simplified execution using map and lambda function\n",
    "# syntax for map()\n",
    "# map(function, iterables)\n",
    "list(map(lambda x:x**2, numbers))"
   ]
  }
 ],
 "metadata": {
  "kernelspec": {
   "display_name": "base",
   "language": "python",
   "name": "python3"
  },
  "language_info": {
   "codemirror_mode": {
    "name": "ipython",
    "version": 3
   },
   "file_extension": ".py",
   "mimetype": "text/x-python",
   "name": "python",
   "nbconvert_exporter": "python",
   "pygments_lexer": "ipython3",
   "version": "3.12.7"
  }
 },
 "nbformat": 4,
 "nbformat_minor": 5
}
