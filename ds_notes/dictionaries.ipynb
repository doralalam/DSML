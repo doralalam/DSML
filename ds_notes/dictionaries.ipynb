{
 "cells": [
  {
   "cell_type": "markdown",
   "id": "3723d004",
   "metadata": {},
   "source": [
    "# Dictionaries\n",
    "\n",
    "1. Dictionaries are of un-ordered collection of items.\n",
    "\n",
    "2. Dictionaries consists of key-value pairs where keys must be unique and immutable (strings, numbers, tuples) while values can be of any type\n",
    "\n",
    "3. Dictionaries are mutable but the keys in it are immutable i.e, we can add or update elements in dictionaries"
   ]
  },
  {
   "cell_type": "code",
   "execution_count": 4,
   "id": "0f3f61a7",
   "metadata": {},
   "outputs": [
    {
     "name": "stdout",
     "output_type": "stream",
     "text": [
      "<class 'dict'>\n"
     ]
    }
   ],
   "source": [
    "# Creating Dictionaries\n",
    "empty_dictionary = {}\n",
    "print(type(empty_dictionary))"
   ]
  },
  {
   "cell_type": "code",
   "execution_count": 6,
   "id": "38e11a7c",
   "metadata": {},
   "outputs": [
    {
     "name": "stdout",
     "output_type": "stream",
     "text": [
      "<class 'dict'>\n"
     ]
    }
   ],
   "source": [
    "empty_dictionary2 = dict()\n",
    "print(type(empty_dictionary2))"
   ]
  },
  {
   "cell_type": "code",
   "execution_count": null,
   "id": "5e3cf2e7",
   "metadata": {},
   "outputs": [
    {
     "name": "stdout",
     "output_type": "stream",
     "text": [
      "{'name': 'Sai', 'age': 23, 'gender': 'M'}\n",
      "<class 'dict'>\n"
     ]
    }
   ],
   "source": [
    "# Creating a dicitonary \n",
    "student = {\"name\":\"Sai\", \"age\":23, \"gender\":'M' }\n",
    "print(student)\n",
    "print(type(student)) "
   ]
  },
  {
   "cell_type": "code",
   "execution_count": 8,
   "id": "1395c3d8",
   "metadata": {},
   "outputs": [
    {
     "name": "stdout",
     "output_type": "stream",
     "text": [
      "{'name': 'M', 'age': 23}\n"
     ]
    }
   ],
   "source": [
    "# if same key is again\n",
    "student = {\"name\":\"Sai\", \"age\":23, \"name\":'M'}\n",
    "print(student)"
   ]
  },
  {
   "cell_type": "code",
   "execution_count": 29,
   "id": "640fb980",
   "metadata": {},
   "outputs": [
    {
     "name": "stdout",
     "output_type": "stream",
     "text": [
      "Sai\n",
      "23\n",
      "M\n",
      "---------------------------\n",
      "name : Sai\n",
      "age : 23\n",
      "gender : M\n",
      "---------------------------\n",
      "Sai\n",
      "23\n",
      "None\n",
      "This is the default value\n",
      "---------------------------\n",
      "Value of name is Sai\n",
      "Value of age is 23\n",
      "Value of gender is M\n"
     ]
    }
   ],
   "source": [
    "# Accessing the values in a dictionary\n",
    "student = {\"name\":\"Sai\", \"age\":23, \"gender\":'M' }\n",
    "print(student['name'])\n",
    "print(student[\"age\"])\n",
    "print(student[\"gender\"])\n",
    "print(\"---------------------------\")\n",
    "\n",
    "# Using for loop\n",
    "for key, val in student.items():\n",
    "    print(f\"{key} : {val}\")\n",
    "print(\"---------------------------\")\n",
    "\n",
    "# Using get method\n",
    "print(student.get('name'))\n",
    "print(student.get('age'))\n",
    "print(student.get('lastname'))\n",
    "print(student.get('lastname',\"This is the default value\"))\n",
    "print(\"---------------------------\")\n",
    "\n",
    "# Using for and get method\n",
    "for element in student:\n",
    "    print(f\"Value of {element} is {student.get(element)}\")\n"
   ]
  },
  {
   "cell_type": "code",
   "execution_count": null,
   "id": "735885cc",
   "metadata": {},
   "outputs": [
    {
     "name": "stdout",
     "output_type": "stream",
     "text": [
      "{'name': 'Sai', 'age': 30, 'gender': 'M', 'address': 'Vijayawada'}\n",
      "{'name': 'Sai', 'age': 30, 'gender': 'M', 'address': 'Vijayawada'}\n",
      "{'name': 'Sai', 'age': 30, 'address': 'Vijayawada'}\n"
     ]
    }
   ],
   "source": [
    "# Modifying dictionary elements\n",
    "student['age'] = 30                      ## updated the value\n",
    "print(student)\n",
    "student[\"address\"] = \"Vijayawada\"       ## added new key and value\n",
    "print(student)\n",
    "del student['gender']                   ## delete a key value pair\n",
    "print(student)"
   ]
  },
  {
   "cell_type": "code",
   "execution_count": 33,
   "id": "996c6d4d",
   "metadata": {},
   "outputs": [
    {
     "name": "stdout",
     "output_type": "stream",
     "text": [
      "Keys : dict_keys(['name', 'age', 'address'])\n",
      "Values : dict_values(['Sai', 30, 'Vijayawada'])\n",
      "Items : dict_items([('name', 'Sai'), ('age', 30), ('address', 'Vijayawada')])\n"
     ]
    }
   ],
   "source": [
    "# Dictionary Methods\n",
    "keys = student.keys()\n",
    "print(f\"Keys : {keys}\")\n",
    "\n",
    "values = student.values()\n",
    "print(f\"Values : {values}\")\n",
    "\n",
    "items = student.items()\n",
    "print(f\"Items : {items}\")"
   ]
  },
  {
   "cell_type": "code",
   "execution_count": 39,
   "id": "6e902946",
   "metadata": {},
   "outputs": [
    {
     "name": "stdout",
     "output_type": "stream",
     "text": [
      "Student : {'name': 'Dora', 'age': 30, 'address': 'Vijayawada'}\n",
      "Student Copy : {'name': 'Dora', 'age': 30, 'address': 'Vijayawada'}\n",
      "-----------------------------------------------------------------------------------------\n",
      "Student : {'name': 'Seetha', 'age': 30, 'address': 'Vijayawada'}\n",
      "Student Shallow Copy : {'name': 'Dora', 'age': 30, 'address': 'Vijayawada'}\n"
     ]
    }
   ],
   "source": [
    "# Shallow Copy\n",
    "# Problem\n",
    "student_copy = student\n",
    "student['name'] = 'Dora'\n",
    "print(f\"Student : {student}\")\n",
    "print(f\"Student Copy : {student_copy}\")     # even if we change student, value in student_copy is also updated\n",
    "print(\"-----------------------------------------------------------------------------------------\")\n",
    "\n",
    "# Solution\n",
    "student_shallow_copy = student.copy()\n",
    "student['name'] = 'Seetha'\n",
    "print(f\"Student : {student}\")\n",
    "print(f\"Student Shallow Copy : {student_shallow_copy}\")"
   ]
  },
  {
   "cell_type": "code",
   "execution_count": 42,
   "id": "e7dc45a1",
   "metadata": {},
   "outputs": [
    {
     "name": "stdout",
     "output_type": "stream",
     "text": [
      "name\n",
      "age\n",
      "address\n",
      "----------------------------\n",
      "Seetha\n",
      "30\n",
      "Vijayawada\n",
      "----------------------------\n",
      "name : Seetha\n",
      "age : 30\n",
      "address : Vijayawada\n"
     ]
    }
   ],
   "source": [
    "# Iterating over dictionaries\n",
    "\n",
    "for key in student.keys():\n",
    "    print(key)\n",
    "print(\"----------------------------\")\n",
    "\n",
    "for val in student.values():\n",
    "    print(val)\n",
    "print(\"----------------------------\")\n",
    "\n",
    "for k,v in student.items():\n",
    "    print(f\"{k} : {v}\")\n"
   ]
  }
 ],
 "metadata": {
  "kernelspec": {
   "display_name": "base",
   "language": "python",
   "name": "python3"
  },
  "language_info": {
   "codemirror_mode": {
    "name": "ipython",
    "version": 3
   },
   "file_extension": ".py",
   "mimetype": "text/x-python",
   "name": "python",
   "nbconvert_exporter": "python",
   "pygments_lexer": "ipython3",
   "version": "3.12.7"
  }
 },
 "nbformat": 4,
 "nbformat_minor": 5
}
