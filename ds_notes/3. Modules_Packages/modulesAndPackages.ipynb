{
 "cells": [
  {
   "cell_type": "markdown",
   "id": "7cda8306",
   "metadata": {},
   "source": [
    "## Modules and Packages\n",
    "\n",
    "    Modules and Packages in Python helps to organize and reuse the code"
   ]
  },
  {
   "cell_type": "code",
   "execution_count": 17,
   "id": "2a375c15",
   "metadata": {},
   "outputs": [
    {
     "name": "stdout",
     "output_type": "stream",
     "text": [
      "5.0\n"
     ]
    }
   ],
   "source": [
    "## Example\n",
    "import math             # syntax to import a package\n",
    "print(math.sqrt(25))    # sqrt is a function with in math package"
   ]
  },
  {
   "cell_type": "code",
   "execution_count": 18,
   "id": "1c3f516c",
   "metadata": {},
   "outputs": [
    {
     "name": "stdout",
     "output_type": "stream",
     "text": [
      "10.0\n",
      "7.0710678118654755\n",
      "3.141592653589793\n"
     ]
    }
   ],
   "source": [
    "## Importing particular functions from a package\n",
    "from math import sqrt, pi\n",
    "print(sqrt(100))\n",
    "print(sqrt(50))\n",
    "print(pi)"
   ]
  },
  {
   "cell_type": "code",
   "execution_count": 19,
   "id": "3079af4e",
   "metadata": {},
   "outputs": [
    {
     "name": "stdout",
     "output_type": "stream",
     "text": [
      "3.141592653589793\n",
      "9.9498743710662\n"
     ]
    }
   ],
   "source": [
    "## Importing package and using alias\n",
    "import math as m        # m here is an alias name for math package\n",
    "print(m.pi)\n",
    "print(m.sqrt(99))"
   ]
  },
  {
   "cell_type": "markdown",
   "id": "7eb735e4",
   "metadata": {},
   "source": [
    "1.  Not every package was pre-installed in the python environment. In order to install numpy package we must use \"pip install numpy\" in the terminal"
   ]
  },
  {
   "cell_type": "code",
   "execution_count": 20,
   "id": "0e493b93",
   "metadata": {},
   "outputs": [
    {
     "data": {
      "text/plain": [
       "array([1, 2, 3, 4, 5])"
      ]
     },
     "execution_count": 20,
     "metadata": {},
     "output_type": "execute_result"
    }
   ],
   "source": [
    "## importing numpy package\n",
    "# Note: If numpy is not installed, you can install it using the command:\n",
    "# pip install numpy\n",
    "import numpy as np\n",
    "np.array([1,2,3,4,5])\n"
   ]
  },
  {
   "cell_type": "code",
   "execution_count": 21,
   "id": "556e0f74",
   "metadata": {},
   "outputs": [
    {
     "name": "stdout",
     "output_type": "stream",
     "text": [
      "4.0\n",
      "3.141592653589793\n"
     ]
    }
   ],
   "source": [
    "## To impart all functions from a package\n",
    "from math import *\n",
    "print(sqrt(16))\n",
    "print(pi)"
   ]
  },
  {
   "cell_type": "markdown",
   "id": "b2bba3a4",
   "metadata": {},
   "source": [
    "#### To Create a own Custom Package"
   ]
  },
  {
   "cell_type": "code",
   "execution_count": null,
   "id": "4696552d",
   "metadata": {},
   "outputs": [
    {
     "data": {
      "text/plain": [
       "'Adding two numbers using package 300'"
      ]
     },
     "execution_count": 22,
     "metadata": {},
     "output_type": "execute_result"
    }
   ],
   "source": [
    "## Importing a custom package\n",
    "## Assuming you have a package named 'package' with a sub-package 'maths'\n",
    "## This is best approach for importing a function inside a package for me\n",
    "from package.maths import addition\n",
    "addition(100, 200)"
   ]
  },
  {
   "cell_type": "code",
   "execution_count": 23,
   "id": "35834137",
   "metadata": {},
   "outputs": [
    {
     "data": {
      "text/plain": [
       "'Adding two numbers using package 800'"
      ]
     },
     "execution_count": 23,
     "metadata": {},
     "output_type": "execute_result"
    }
   ],
   "source": [
    "## Another way to import a custom package\n",
    "from package import maths\n",
    "maths.addition(100, 700)"
   ]
  },
  {
   "cell_type": "code",
   "execution_count": 24,
   "id": "bc8939a6",
   "metadata": {},
   "outputs": [
    {
     "name": "stdout",
     "output_type": "stream",
     "text": [
      "Adding two numbers using package 400\n",
      "Subtracting two numbers using package 50\n",
      "Multiplying two numbers using package 200\n",
      "Dividing two numbers using package 5.0\n"
     ]
    }
   ],
   "source": [
    "## Importing all functions from a package\n",
    "from package.maths import *\n",
    "print(maths.addition(100, 300))\n",
    "print(maths.subtraction(100, 50))\n",
    "print(maths.multiplication(10, 20))\n",
    "print(maths.division(100, 20))"
   ]
  },
  {
   "cell_type": "code",
   "execution_count": 1,
   "id": "7908e8e9",
   "metadata": {},
   "outputs": [
    {
     "name": "stdout",
     "output_type": "stream",
     "text": [
      "Newton's First Law: An object at rest stays at rest, and an object in motion stays in motion unless acted upon by a net external force.\n",
      "Newton's Second Law: The acceleration of an object is directly proportional to the net force acting on it and inversely proportional to its mass.\n",
      "Newton's Third Law: For every action, there is an equal and opposite reaction.\n",
      "Invalid\n"
     ]
    }
   ],
   "source": [
    "## Importing a custom sub-package\n",
    "from package.sub_package import science\n",
    "print(science.newtons_laws(1))\n",
    "print(science.newtons_laws(2))\n",
    "print(science.newtons_laws(3))\n",
    "print(science.newtons_laws(4))"
   ]
  },
  {
   "cell_type": "code",
   "execution_count": null,
   "id": "4f3a86b5",
   "metadata": {},
   "outputs": [
    {
     "name": "stdout",
     "output_type": "stream",
     "text": [
      "Newton's First Law: An object at rest stays at rest, and an object in motion stays in motion unless acted upon by a net external force.\n",
      "Newton's Second Law: The acceleration of an object is directly proportional to the net force acting on it and inversely proportional to its mass.\n"
     ]
    }
   ],
   "source": [
    "## Importing a custom sub-package using different way\n",
    "## In the below statement, * indicates all the functions inside that particular package\n",
    "from package.sub_package.science import *\n",
    "print(newtons_laws(1))\n",
    "print(newtons_laws(2))"
   ]
  }
 ],
 "metadata": {
  "kernelspec": {
   "display_name": "base",
   "language": "python",
   "name": "python3"
  },
  "language_info": {
   "codemirror_mode": {
    "name": "ipython",
    "version": 3
   },
   "file_extension": ".py",
   "mimetype": "text/x-python",
   "name": "python",
   "nbconvert_exporter": "python",
   "pygments_lexer": "ipython3",
   "version": "3.12.7"
  }
 },
 "nbformat": 4,
 "nbformat_minor": 5
}
