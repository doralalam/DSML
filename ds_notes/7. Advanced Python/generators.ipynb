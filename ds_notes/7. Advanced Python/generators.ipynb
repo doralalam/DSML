{
 "cells": [
  {
   "cell_type": "markdown",
   "id": "3a18939a",
   "metadata": {},
   "source": [
    "#### Generators\n",
    "\n",
    "Generators are a simpler way to create iterators\n",
    "\n",
    "Generators use the \"yield\" keyword to produce a series of values lazily which means they generate the values on the fly and do not store in memory"
   ]
  },
  {
   "cell_type": "code",
   "execution_count": 92,
   "id": "fb289450",
   "metadata": {},
   "outputs": [],
   "source": [
    "## regular function\n",
    "def square():\n",
    "    for i in range(3):\n",
    "        return i**2"
   ]
  },
  {
   "cell_type": "code",
   "execution_count": 93,
   "id": "7ef2a3f2",
   "metadata": {},
   "outputs": [
    {
     "data": {
      "text/plain": [
       "0"
      ]
     },
     "execution_count": 93,
     "metadata": {},
     "output_type": "execute_result"
    }
   ],
   "source": [
    "## calling the function\n",
    "square()\n",
    "## returns 0 bcuz it executes the return statement in the first iteration itself"
   ]
  },
  {
   "cell_type": "code",
   "execution_count": 94,
   "id": "ea9c2c81",
   "metadata": {},
   "outputs": [],
   "source": [
    "## Generator\n",
    "def square():\n",
    "    for i in range(3):\n",
    "        ## yield keyword indicates the generator\n",
    "        yield i**2"
   ]
  },
  {
   "cell_type": "code",
   "execution_count": 97,
   "id": "d61f6e03",
   "metadata": {},
   "outputs": [
    {
     "data": {
      "text/plain": [
       "<generator object square at 0x106d2fb80>"
      ]
     },
     "execution_count": 97,
     "metadata": {},
     "output_type": "execute_result"
    }
   ],
   "source": [
    "## generator object\n",
    "square()\n",
    "## the main advantage is that they do not need a pre-defined memory, generators generate the values on the fly"
   ]
  },
  {
   "cell_type": "code",
   "execution_count": 98,
   "id": "50312f51",
   "metadata": {},
   "outputs": [
    {
     "name": "stdout",
     "output_type": "stream",
     "text": [
      "0\n",
      "1\n",
      "4\n"
     ]
    }
   ],
   "source": [
    "## iterating through the generator object\n",
    "for i in square():\n",
    "    print(i)"
   ]
  },
  {
   "cell_type": "code",
   "execution_count": 99,
   "id": "453a7649",
   "metadata": {},
   "outputs": [],
   "source": [
    "## assigning the generator object to a variable to iterate using next() i.e., lazy loading\n",
    "iterator = square()"
   ]
  },
  {
   "cell_type": "code",
   "execution_count": 102,
   "id": "2c63991e",
   "metadata": {},
   "outputs": [
    {
     "data": {
      "text/plain": [
       "4"
      ]
     },
     "execution_count": 102,
     "metadata": {},
     "output_type": "execute_result"
    }
   ],
   "source": [
    "## lazy loading\n",
    "next(iterator)"
   ]
  },
  {
   "cell_type": "code",
   "execution_count": 103,
   "id": "81afdb8c",
   "metadata": {},
   "outputs": [],
   "source": [
    "## another example of generators\n",
    "def my_generator():\n",
    "    yield 1\n",
    "    yield 10\n",
    "    yield 5\n",
    "    "
   ]
  },
  {
   "cell_type": "code",
   "execution_count": 118,
   "id": "dcbecea7",
   "metadata": {},
   "outputs": [
    {
     "data": {
      "text/plain": [
       "<generator object my_generator at 0x106df89e0>"
      ]
     },
     "execution_count": 118,
     "metadata": {},
     "output_type": "execute_result"
    }
   ],
   "source": [
    "my_generator()"
   ]
  },
  {
   "cell_type": "code",
   "execution_count": 112,
   "id": "9994bd1b",
   "metadata": {},
   "outputs": [
    {
     "name": "stdout",
     "output_type": "stream",
     "text": [
      "1\n",
      "10\n",
      "5\n"
     ]
    }
   ],
   "source": [
    "## iterating over my_generator\n",
    "for i in my_generator():\n",
    "    print(i)"
   ]
  },
  {
   "cell_type": "code",
   "execution_count": 113,
   "id": "26049b19",
   "metadata": {},
   "outputs": [],
   "source": [
    "## storing the generator into a variable\n",
    "iterator = my_generator()"
   ]
  },
  {
   "cell_type": "code",
   "execution_count": 117,
   "id": "0fae72c0",
   "metadata": {},
   "outputs": [
    {
     "ename": "StopIteration",
     "evalue": "",
     "output_type": "error",
     "traceback": [
      "\u001b[0;31m---------------------------------------------------------------------------\u001b[0m",
      "\u001b[0;31mStopIteration\u001b[0m                             Traceback (most recent call last)",
      "Cell \u001b[0;32mIn[117], line 2\u001b[0m\n\u001b[1;32m      1\u001b[0m \u001b[38;5;66;03m## iterating over generator using a variable and next()\u001b[39;00m\n\u001b[0;32m----> 2\u001b[0m \u001b[38;5;28mnext\u001b[39m(iterator)\n",
      "\u001b[0;31mStopIteration\u001b[0m: "
     ]
    }
   ],
   "source": [
    "## iterating over generator using a variable and next()\n",
    "next(iterator)\n"
   ]
  },
  {
   "cell_type": "markdown",
   "id": "1d098026",
   "metadata": {},
   "source": [
    "#### Practical Example:\n",
    "\n",
    "Generators are especially used while reading from the large files\n",
    "\n",
    "Because, generators process one line at a time without loading the entire file into memory"
   ]
  },
  {
   "cell_type": "code",
   "execution_count": 165,
   "id": "1716b4ba",
   "metadata": {},
   "outputs": [],
   "source": [
    "## function to read large file using generators\n",
    "def read_large_file(filepath):\n",
    "    with open (filepath, 'r') as file:\n",
    "        for line in file:\n",
    "            yield line"
   ]
  },
  {
   "cell_type": "code",
   "execution_count": 169,
   "id": "73d9a3b8",
   "metadata": {},
   "outputs": [
    {
     "name": "stdout",
     "output_type": "stream",
     "text": [
      "The quick brown fox jumps over the lazy dog.\n",
      "Sample test data for input validation and boundary testing.\n",
      "Lorem ipsum dolor sit amet, consectetur adipiscing elit.\n",
      "john.doe@example.com\n",
      "Password123!\n",
      "Special characters: !@#$%^&*()_+-=[]{}|;:'\"<>?,.\n",
      "Very long line of text that exceeds typical input limits and should be used for testing text field boundaries and string handling.\n",
      "12345\n",
      "-999\n",
      "Empty line test case below\n"
     ]
    }
   ],
   "source": [
    "filepath = 'largefile.txt'\n",
    "\n",
    "for line in read_large_file(filepath):\n",
    "    print(line.strip())"
   ]
  },
  {
   "cell_type": "code",
   "execution_count": 170,
   "id": "0aeb6cf7",
   "metadata": {},
   "outputs": [],
   "source": [
    "## Here is the difference of reading large file without generator\n",
    "def read_large_file(filepath):\n",
    "    with open (filepath, 'r') as file:\n",
    "        for line in file:\n",
    "            return line"
   ]
  },
  {
   "cell_type": "code",
   "execution_count": 172,
   "id": "cfc935db",
   "metadata": {},
   "outputs": [
    {
     "name": "stdout",
     "output_type": "stream",
     "text": [
      "T\n",
      "h\n",
      "e\n",
      "\n",
      "q\n",
      "u\n",
      "i\n",
      "c\n",
      "k\n",
      "\n",
      "b\n",
      "r\n",
      "o\n",
      "w\n",
      "n\n",
      "\n",
      "f\n",
      "o\n",
      "x\n",
      "\n",
      "j\n",
      "u\n",
      "m\n",
      "p\n",
      "s\n",
      "\n",
      "o\n",
      "v\n",
      "e\n",
      "r\n",
      "\n",
      "t\n",
      "h\n",
      "e\n",
      "\n",
      "l\n",
      "a\n",
      "z\n",
      "y\n",
      "\n",
      "d\n",
      "o\n",
      "g\n",
      ".\n",
      "\n"
     ]
    }
   ],
   "source": [
    "filepath = 'largefile.txt'\n",
    "\n",
    "for line in read_large_file(filepath):\n",
    "    print(line.strip())"
   ]
  },
  {
   "cell_type": "markdown",
   "id": "d64b6bc5",
   "metadata": {},
   "source": [
    "#### Iterators vs Generators\n",
    "\n",
    "In Python, iterators and generators are related concepts but have key differences in implementation and usage:\n",
    "\n",
    "Key Differences\n",
    "\n",
    "Implementation:\n",
    "\n",
    "Iterator: Implemented using a class with __iter__() and __next__() methods\n",
    "\n",
    "Generator: Implemented using a function with the yield keyword\n",
    "\n",
    "Memory Usage:\n",
    "\n",
    "Iterator: May consume more memory as it can store all data at once\n",
    "\n",
    "Generator: More memory-efficient, generates values on-the-fly without storing entire sequences\n",
    "\n",
    "Code Complexity:\n",
    "\n",
    "Iterator: Requires more code - you need to define a class with special methods\n",
    "\n",
    "Generator: Much simpler and more concise - just use yield in a function\n",
    "\n"
   ]
  }
 ],
 "metadata": {
  "kernelspec": {
   "display_name": "base",
   "language": "python",
   "name": "python3"
  },
  "language_info": {
   "codemirror_mode": {
    "name": "ipython",
    "version": 3
   },
   "file_extension": ".py",
   "mimetype": "text/x-python",
   "name": "python",
   "nbconvert_exporter": "python",
   "pygments_lexer": "ipython3",
   "version": "3.12.7"
  }
 },
 "nbformat": 4,
 "nbformat_minor": 5
}
