{
 "cells": [
  {
   "cell_type": "markdown",
   "id": "ea120cbf",
   "metadata": {},
   "source": [
    "#### Decorators\n",
    "\n",
    "Decorator is a powerful and flexible feature in python that allows us to modify the behaviour of a function or a method\n",
    "\n",
    "Decorators can be used to add more functionality to a function or a method without changing it's actual code"
   ]
  },
  {
   "cell_type": "markdown",
   "id": "2abfec00",
   "metadata": {},
   "source": [
    "#### FunctionCopy\n",
    "\n",
    "#### Closures\n",
    "\n",
    "#### Decorators"
   ]
  },
  {
   "cell_type": "code",
   "execution_count": 130,
   "id": "6a3b2b84",
   "metadata": {},
   "outputs": [],
   "source": [
    "## Function Copy\n",
    "def welcome():\n",
    "    return('Hello, Welcome to the Python Course !!!')"
   ]
  },
  {
   "cell_type": "code",
   "execution_count": 131,
   "id": "b7eb2bbe",
   "metadata": {},
   "outputs": [
    {
     "name": "stdout",
     "output_type": "stream",
     "text": [
      "<function welcome at 0x10a1d1a80>\n",
      "Hello, Welcome to the Python Course !!!\n"
     ]
    }
   ],
   "source": [
    "## directly accessing the function\n",
    "print(welcome)\n",
    "print(welcome())"
   ]
  },
  {
   "cell_type": "code",
   "execution_count": 132,
   "id": "7b0ec87f",
   "metadata": {},
   "outputs": [],
   "source": [
    "## function copy\n",
    "new_welcome = welcome"
   ]
  },
  {
   "cell_type": "code",
   "execution_count": 133,
   "id": "99ee27ac",
   "metadata": {},
   "outputs": [
    {
     "name": "stdout",
     "output_type": "stream",
     "text": [
      "Hello, Welcome to the Python Course !!!\n",
      "Hello, Welcome to the Python Course !!!\n",
      "Hello, Welcome to the Python Course !!!\n"
     ]
    },
    {
     "ename": "NameError",
     "evalue": "name 'welcome' is not defined",
     "output_type": "error",
     "traceback": [
      "\u001b[0;31m---------------------------------------------------------------------------\u001b[0m",
      "\u001b[0;31mNameError\u001b[0m                                 Traceback (most recent call last)",
      "Cell \u001b[0;32mIn[133], line 10\u001b[0m\n\u001b[1;32m      8\u001b[0m \u001b[38;5;28mprint\u001b[39m(new_welcome())\n\u001b[1;32m      9\u001b[0m \u001b[38;5;66;03m## calling the original function\u001b[39;00m\n\u001b[0;32m---> 10\u001b[0m \u001b[38;5;28mprint\u001b[39m(welcome)\n",
      "\u001b[0;31mNameError\u001b[0m: name 'welcome' is not defined"
     ]
    }
   ],
   "source": [
    "## calling the copied function\n",
    "print(new_welcome())\n",
    "## calling the original function\n",
    "print(welcome())\n",
    "## deleting the original function\n",
    "del welcome\n",
    "## calling the copied function\n",
    "print(new_welcome())\n",
    "## calling the original function\n",
    "print(welcome)"
   ]
  },
  {
   "cell_type": "markdown",
   "id": "810a56e1",
   "metadata": {},
   "source": [
    "#### Closure\n",
    "\n",
    "Function inside a function"
   ]
  },
  {
   "cell_type": "code",
   "execution_count": null,
   "id": "6b728e66",
   "metadata": {},
   "outputs": [],
   "source": [
    "## Closure\n",
    "## Example 1\n",
    "def main_welcome():\n",
    "    msg = \"Hello !\"\n",
    "    def sub_welcome():\n",
    "        print(msg)\n",
    "        print('I am welcoming you from sub_welcome !!!')\n",
    "    return sub_welcome()"
   ]
  },
  {
   "cell_type": "code",
   "execution_count": null,
   "id": "f13f31ff",
   "metadata": {},
   "outputs": [
    {
     "name": "stdout",
     "output_type": "stream",
     "text": [
      "Hello !\n",
      "I am welcoming you from sub_welcome !!!\n"
     ]
    }
   ],
   "source": [
    "## Calling Example 1 closure\n",
    "main_welcome()"
   ]
  },
  {
   "cell_type": "code",
   "execution_count": null,
   "id": "68a7fe55",
   "metadata": {},
   "outputs": [],
   "source": [
    "## Closure Example 2\n",
    "def main_welcome(msg):\n",
    "    def sub_welcome():\n",
    "        print(msg)\n",
    "        print('Please learn the concepts properly !')\n",
    "    return sub_welcome()"
   ]
  },
  {
   "cell_type": "code",
   "execution_count": null,
   "id": "467ad2aa",
   "metadata": {},
   "outputs": [
    {
     "name": "stdout",
     "output_type": "stream",
     "text": [
      "Welcome to the Python Course !\n",
      "Please learn the concepts properly !\n"
     ]
    }
   ],
   "source": [
    "## calling example 2 by passing an argument\n",
    "main_welcome('Welcome to the Python Course !')"
   ]
  },
  {
   "cell_type": "code",
   "execution_count": null,
   "id": "963d4906",
   "metadata": {},
   "outputs": [],
   "source": [
    "## Closure Example 3\n",
    "def main_welcome(func):\n",
    "    def sub_welcome():\n",
    "        print('This is the first line')\n",
    "        ## a function gets replaced here\n",
    "        func('This is the middle line')\n",
    "        print('This is the last line')\n",
    "    return sub_welcome()"
   ]
  },
  {
   "cell_type": "code",
   "execution_count": null,
   "id": "3a50627d",
   "metadata": {},
   "outputs": [
    {
     "name": "stdout",
     "output_type": "stream",
     "text": [
      "This is the first line\n",
      "This is the middle line\n",
      "This is the last line\n"
     ]
    }
   ],
   "source": [
    "## calling the example 3 function by passing a function as an argument\n",
    "main_welcome(print)"
   ]
  },
  {
   "cell_type": "code",
   "execution_count": null,
   "id": "bd7dd6f2",
   "metadata": {},
   "outputs": [],
   "source": [
    "## Closure exmaple 4\n",
    "def main_welcome(func,lst):\n",
    "    def sub_welcome():\n",
    "        print('This is the first line')\n",
    "        ## a function gets replaced here\n",
    "        print(func(lst))\n",
    "        print('This is the last line')\n",
    "    return sub_welcome()"
   ]
  },
  {
   "cell_type": "code",
   "execution_count": null,
   "id": "5c83e751",
   "metadata": {},
   "outputs": [
    {
     "name": "stdout",
     "output_type": "stream",
     "text": [
      "This is the first line\n",
      "5\n",
      "This is the last line\n"
     ]
    }
   ],
   "source": [
    "## calling example 4 function by passing a function (len) and a list as arguments\n",
    "main_welcome(len,[1,2,3,4,5])"
   ]
  },
  {
   "cell_type": "markdown",
   "id": "5850acca",
   "metadata": {},
   "source": [
    "#### Decorators"
   ]
  },
  {
   "cell_type": "code",
   "execution_count": null,
   "id": "dfc59869",
   "metadata": {},
   "outputs": [],
   "source": [
    "## Closure Example 5\n",
    "def main_welcome(func):\n",
    "    def sub_welcome():\n",
    "        print('This is the first line')\n",
    "        func()\n",
    "        print('This is the last line')\n",
    "    return sub_welcome()"
   ]
  },
  {
   "cell_type": "code",
   "execution_count": null,
   "id": "2f34a9ce",
   "metadata": {},
   "outputs": [
    {
     "name": "stdout",
     "output_type": "stream",
     "text": [
      "This is the middle line\n"
     ]
    }
   ],
   "source": [
    "## Custom function to be passed to Exmaple 5\n",
    "def custom_welcome():\n",
    "    print('This is the middle line')\n",
    "\n",
    "custom_welcome()"
   ]
  },
  {
   "cell_type": "code",
   "execution_count": null,
   "id": "3d656020",
   "metadata": {},
   "outputs": [
    {
     "name": "stdout",
     "output_type": "stream",
     "text": [
      "This is the first line\n",
      "This is the middle line\n",
      "This is the last line\n"
     ]
    }
   ],
   "source": [
    "## Passing the custom function to main function in example 5\n",
    "main_welcome(custom_welcome)"
   ]
  },
  {
   "cell_type": "code",
   "execution_count": null,
   "id": "80f6f889",
   "metadata": {},
   "outputs": [
    {
     "name": "stdout",
     "output_type": "stream",
     "text": [
      "This is the first line\n",
      "This is from the custom function\n",
      "This is the last line\n"
     ]
    }
   ],
   "source": [
    "## Decorator\n",
    "@main_welcome\n",
    "## when the above keyword \"@main_welcome\" is called, then indirectly indicates that custom_welcome() is going to be passed as parameter to that function\n",
    "## Note: we aren't changing the code of @main_welcome in this block, we are just adding more functionality to it using custom_welcome()\n",
    "def custom_welcome():\n",
    "    print('This is from the custom function')"
   ]
  },
  {
   "cell_type": "code",
   "execution_count": null,
   "id": "c77f0c7a",
   "metadata": {},
   "outputs": [],
   "source": [
    "## Decorator Example\n",
    "def my_decorator(func):\n",
    "    def wrapper():\n",
    "        print('Something is happening before the function is called')\n",
    "        func()\n",
    "        print('Something is happening after the fucntion is called')\n",
    "    return wrapper\n",
    "    ## if we mention as wrapper(), then we need not to call the function separately. This will get executed while initiating itself"
   ]
  },
  {
   "cell_type": "code",
   "execution_count": null,
   "id": "5de7f83b",
   "metadata": {},
   "outputs": [],
   "source": [
    "## Here is the decorator for the above code\n",
    "@my_decorator\n",
    "def say_hello():\n",
    "    print('Hello, I am Python')"
   ]
  },
  {
   "cell_type": "code",
   "execution_count": null,
   "id": "3b9f340e",
   "metadata": {},
   "outputs": [
    {
     "name": "stdout",
     "output_type": "stream",
     "text": [
      "Something is happening before the function is called\n",
      "Hello, I am Python\n",
      "Something is happening after the fucntion is called\n"
     ]
    }
   ],
   "source": [
    "say_hello()"
   ]
  },
  {
   "cell_type": "code",
   "execution_count": null,
   "id": "b4d02197",
   "metadata": {},
   "outputs": [],
   "source": [
    "## Decorator with arguments\n",
    "def repeat(n):\n",
    "    ## takes the parameter for repetition\n",
    "    def decorator(func):\n",
    "        ## takes the function as a parameter\n",
    "        def wrapper(*args):\n",
    "            ## takes variable length arguments (not mandatory)\n",
    "            for _ in range(n):\n",
    "                ## function passed with variable length arguments\n",
    "                func(*args)\n",
    "        return wrapper\n",
    "    return decorator"
   ]
  },
  {
   "cell_type": "code",
   "execution_count": null,
   "id": "8d666585",
   "metadata": {},
   "outputs": [],
   "source": [
    "## Decorator passed with an argument\n",
    "@repeat(3)\n",
    "def say_hello():\n",
    "    print('Hello Everyone')"
   ]
  },
  {
   "cell_type": "code",
   "execution_count": null,
   "id": "d0aa9e1a",
   "metadata": {},
   "outputs": [
    {
     "name": "stdout",
     "output_type": "stream",
     "text": [
      "Hello Everyone\n",
      "Hello Everyone\n",
      "Hello Everyone\n"
     ]
    }
   ],
   "source": [
    "say_hello()"
   ]
  },
  {
   "cell_type": "markdown",
   "id": "57c45744",
   "metadata": {},
   "source": [
    "#### Conclusion\n",
    "\n",
    "Decorators is a powerful concept in Python that allows us to extend or modify the behaiour of a function or a method\n",
    "\n",
    "Decorators provide a more clean and readable way to add functionality such as logging, timing, access control and more without changing the original code"
   ]
  }
 ],
 "metadata": {
  "kernelspec": {
   "display_name": "base",
   "language": "python",
   "name": "python3"
  },
  "language_info": {
   "codemirror_mode": {
    "name": "ipython",
    "version": 3
   },
   "file_extension": ".py",
   "mimetype": "text/x-python",
   "name": "python",
   "nbconvert_exporter": "python",
   "pygments_lexer": "ipython3",
   "version": "3.12.7"
  }
 },
 "nbformat": 4,
 "nbformat_minor": 5
}
