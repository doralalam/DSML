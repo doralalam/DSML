{
 "cells": [
  {
   "cell_type": "markdown",
   "id": "328f0104",
   "metadata": {},
   "source": [
    "### File Opertations - Read and Write Files\n",
    "\n",
    "File handling is a crucial part in any programming language. Python provides built-in functions and methods to read and write data to files.\n"
   ]
  },
  {
   "cell_type": "code",
   "execution_count": 2,
   "id": "7a1ab427",
   "metadata": {},
   "outputs": [
    {
     "name": "stdout",
     "output_type": "stream",
     "text": [
      "Hello, How are you?\n",
      "I am good\n",
      "My name is Dora\n",
      "Welcome to the course\n"
     ]
    }
   ],
   "source": [
    "## Read a whole file\n",
    "\n",
    "with open(\"example.txt\", 'r') as file:\n",
    "    content = file.read()\n",
    "    print(content)"
   ]
  },
  {
   "cell_type": "code",
   "execution_count": 5,
   "id": "b91a7466",
   "metadata": {},
   "outputs": [
    {
     "name": "stdout",
     "output_type": "stream",
     "text": [
      "Hello, How are you?\n",
      "\n",
      "I am good\n",
      "\n",
      "My name is Dora\n",
      "\n",
      "Welcome to the course\n"
     ]
    }
   ],
   "source": [
    "## Read a file line by line\n",
    "\n",
    "with open(\"example.txt\", 'r') as file:\n",
    "    for line in file:\n",
    "        print(line)\n",
    "        #print(line.strip()) .strip() removes the new line character"
   ]
  },
  {
   "cell_type": "code",
   "execution_count": 6,
   "id": "52846a13",
   "metadata": {},
   "outputs": [],
   "source": [
    "## Write to file (with over-write)\n",
    "with open(\"example.txt\", 'w') as file:\n",
    "    file.write(\"Hello World!\\n\")\n",
    "    file.write(\"This is the over-written data\\n\")"
   ]
  },
  {
   "cell_type": "code",
   "execution_count": 7,
   "id": "6f52c0bc",
   "metadata": {},
   "outputs": [],
   "source": [
    "## Write to file (without over-writing)\n",
    "with open('example.txt', 'a') as file:\n",
    "    file.write(\"This is an appended line\\n\")\n",
    "    file.write('This is another appended line\\n')"
   ]
  },
  {
   "cell_type": "code",
   "execution_count": 15,
   "id": "9f024e81",
   "metadata": {},
   "outputs": [],
   "source": [
    "## Writing a list of lines\n",
    "lines = ['This is the first line\\n', 'This is the second line\\n', 'This is the third line\\n']\n",
    "with open('example.txt', 'a') as file:\n",
    "    file.writelines(lines)\n",
    "    # for line in lines:\n",
    "    #     file.write(line)"
   ]
  },
  {
   "cell_type": "markdown",
   "id": "105f279a",
   "metadata": {},
   "source": [
    "### Binary Files"
   ]
  },
  {
   "cell_type": "code",
   "execution_count": null,
   "id": "3bbcf750",
   "metadata": {},
   "outputs": [],
   "source": [
    "## Writing data to Binary File\n",
    "data = b'\\x00\\x01\\x02\\x03\\x04'\n",
    "with open('example.bin', 'wb') as file:\n",
    "    file.write(data)"
   ]
  },
  {
   "cell_type": "code",
   "execution_count": null,
   "id": "57dc287f",
   "metadata": {},
   "outputs": [
    {
     "name": "stdout",
     "output_type": "stream",
     "text": [
      "b'\\x00\\x01\\x02\\x03\\x04'\n"
     ]
    }
   ],
   "source": [
    "## Reading data from Binary File\n",
    "with open('example.bin', 'rb') as file:\n",
    "    content = file.read()\n",
    "    print(content)"
   ]
  },
  {
   "cell_type": "code",
   "execution_count": 21,
   "id": "9b38fca3",
   "metadata": {},
   "outputs": [],
   "source": [
    "## Read the content from the source file and write it to the destination file\n",
    "with open('example.txt', 'r') as source_file:\n",
    "    content = source_file.read()\n",
    "\n",
    "with open('destination.txt', 'w') as destination_file:\n",
    "    destination_file.write(content)"
   ]
  },
  {
   "cell_type": "code",
   "execution_count": 40,
   "id": "208343a3",
   "metadata": {},
   "outputs": [
    {
     "name": "stdout",
     "output_type": "stream",
     "text": [
      "Lines count : 7\n",
      "Words Count : 32\n",
      "Character Count : 168\n"
     ]
    }
   ],
   "source": [
    "## Read the text file and count the number of lines, words and characters\n",
    "lines_count, words_count, chars_count = (0, 0, 0)\n",
    "with open('example.txt', 'r') as file:\n",
    "    for lines in file:\n",
    "        lines_count +=1\n",
    "        words_count += len(lines.split())\n",
    "        chars_count += len(lines)\n",
    "print(f\"Lines count : {lines_count}\")\n",
    "print(f\"Words Count : {words_count}\")\n",
    "print(f\"Character Count : {chars_count}\")"
   ]
  },
  {
   "cell_type": "code",
   "execution_count": null,
   "id": "ec6c69d9",
   "metadata": {},
   "outputs": [
    {
     "name": "stdout",
     "output_type": "stream",
     "text": [
      "Lines : 7, Words : 32, Chars : 168\n"
     ]
    }
   ],
   "source": [
    "## Answer from Krish\n",
    "def count_lengths(filepath):\n",
    "    with open(filepath, 'r') as file:\n",
    "        lines = file.readlines()\n",
    "        line_count = len(lines)\n",
    "        word_count = sum(len(line.split()) for line in lines)\n",
    "        char_count = sum(len(line) for line in lines)\n",
    "    return line_count, word_count, char_count\n",
    "\n",
    "file_path = 'example.txt'\n",
    "lines, words, chars = count_lengths(file_path)\n",
    "print(f\"Lines : {lines}, Words : {words}, Chars : {chars}\")"
   ]
  },
  {
   "cell_type": "markdown",
   "id": "da3fe095",
   "metadata": {},
   "source": [
    "The w+ mode in python is used to access the file in both read and write mode. \n",
    "\n",
    "If the file does not exist, a new file will be created. \n",
    "\n",
    "If the file exist, the content is truncated (over-written)."
   ]
  },
  {
   "cell_type": "code",
   "execution_count": 44,
   "id": "bfa5423a",
   "metadata": {},
   "outputs": [
    {
     "name": "stdout",
     "output_type": "stream",
     "text": [
      "Hello World\n",
      "This is the second line in the file\n",
      "\n"
     ]
    }
   ],
   "source": [
    "## Writing to the file and reading the file\n",
    "with open('example.txt', 'w+') as file:\n",
    "    file.write(\"Hello World\\n\")\n",
    "    file.write(\"This is the second line in the file\\n\")\n",
    "\n",
    "    ## Now the cursor is in the second line. To offset this cursor to 0th position we need to use the method\n",
    "    # To observe the difference, run the code by commenting the below method\n",
    "    file.seek(0)\n",
    "\n",
    "    content = file.read()\n",
    "    print(content)\n"
   ]
  }
 ],
 "metadata": {
  "kernelspec": {
   "display_name": "base",
   "language": "python",
   "name": "python3"
  },
  "language_info": {
   "codemirror_mode": {
    "name": "ipython",
    "version": 3
   },
   "file_extension": ".py",
   "mimetype": "text/x-python",
   "name": "python",
   "nbconvert_exporter": "python",
   "pygments_lexer": "ipython3",
   "version": "3.12.7"
  }
 },
 "nbformat": 4,
 "nbformat_minor": 5
}
