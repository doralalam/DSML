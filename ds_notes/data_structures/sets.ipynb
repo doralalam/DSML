{
 "cells": [
  {
   "cell_type": "markdown",
   "id": "bd7d12cd",
   "metadata": {},
   "source": [
    "# Sets\n",
    "\n",
    "1. Sets are a built-in datatype in python and un-ordered collection of items and doesn't allow duplicate items\n",
    "\n",
    "2. Sets stores unique items and is mutable\n",
    "\n",
    "3. Sets are specifically used in scenarios like membership tests eliminating duplicate entries"
   ]
  },
  {
   "cell_type": "code",
   "execution_count": 58,
   "id": "a6b5801e",
   "metadata": {},
   "outputs": [
    {
     "name": "stdout",
     "output_type": "stream",
     "text": [
      "{1, 2, 3, 4, 5}\n",
      "<class 'set'>\n"
     ]
    }
   ],
   "source": [
    "# create a set with duplicate items\n",
    "\n",
    "my_set = {1,2,3,4,5,5,5}\n",
    "print(my_set)\n",
    "print(type(my_set))"
   ]
  },
  {
   "cell_type": "markdown",
   "id": "9e86f8ea",
   "metadata": {},
   "source": [
    "#### Basic Set Operations"
   ]
  },
  {
   "cell_type": "code",
   "execution_count": 59,
   "id": "7bf400db",
   "metadata": {},
   "outputs": [
    {
     "name": "stdout",
     "output_type": "stream",
     "text": [
      "{1, 2, 3, 4, 5, 10}\n"
     ]
    }
   ],
   "source": [
    "# adding an element\n",
    "\n",
    "my_set.add(10)\n",
    "print(my_set)"
   ]
  },
  {
   "cell_type": "code",
   "execution_count": 60,
   "id": "4801fe35",
   "metadata": {},
   "outputs": [
    {
     "name": "stdout",
     "output_type": "stream",
     "text": [
      "{1, 2, 3, 4, 10}\n"
     ]
    }
   ],
   "source": [
    "# remove an element\n",
    "\n",
    "my_set.remove(5)\n",
    "print(my_set)"
   ]
  },
  {
   "cell_type": "code",
   "execution_count": 61,
   "id": "7cdfc07c",
   "metadata": {},
   "outputs": [
    {
     "ename": "KeyError",
     "evalue": "20",
     "output_type": "error",
     "traceback": [
      "\u001b[0;31m---------------------------------------------------------------------------\u001b[0m",
      "\u001b[0;31mKeyError\u001b[0m                                  Traceback (most recent call last)",
      "Cell \u001b[0;32mIn[61], line 1\u001b[0m\n\u001b[0;32m----> 1\u001b[0m my_set\u001b[38;5;241m.\u001b[39mremove(\u001b[38;5;241m20\u001b[39m)\n\u001b[1;32m      2\u001b[0m \u001b[38;5;28mprint\u001b[39m(my_set)\n",
      "\u001b[0;31mKeyError\u001b[0m: 20"
     ]
    }
   ],
   "source": [
    "my_set.remove(20)\n",
    "print(my_set)"
   ]
  },
  {
   "cell_type": "code",
   "execution_count": null,
   "id": "885b0c65",
   "metadata": {},
   "outputs": [
    {
     "name": "stdout",
     "output_type": "stream",
     "text": [
      "{1, 2, 3, 4, 10}\n"
     ]
    }
   ],
   "source": [
    "# to remove an element without throwing error if it is not present\n",
    "\n",
    "my_set.discard(20)\n",
    "print(my_set)"
   ]
  },
  {
   "cell_type": "code",
   "execution_count": null,
   "id": "ea654555",
   "metadata": {},
   "outputs": [
    {
     "name": "stdout",
     "output_type": "stream",
     "text": [
      "1\n",
      "{2, 3, 4, 10}\n"
     ]
    }
   ],
   "source": [
    "# pop method (first-in first-out)\n",
    "\n",
    "removed_element = my_set.pop()\n",
    "print(removed_element)\n",
    "print(my_set)"
   ]
  },
  {
   "cell_type": "code",
   "execution_count": null,
   "id": "0af505fe",
   "metadata": {},
   "outputs": [
    {
     "name": "stdout",
     "output_type": "stream",
     "text": [
      "2\n",
      "{3, 4, 10}\n"
     ]
    }
   ],
   "source": [
    "removed_element = my_set.pop()\n",
    "print(removed_element)\n",
    "print(my_set)"
   ]
  },
  {
   "cell_type": "code",
   "execution_count": null,
   "id": "65f53ed3",
   "metadata": {},
   "outputs": [
    {
     "name": "stdout",
     "output_type": "stream",
     "text": [
      "True\n",
      "False\n"
     ]
    }
   ],
   "source": [
    "# Set Membership Test\n",
    "\n",
    "my_set = {1,2,3,4,32,4,2,3,4}\n",
    "print(3 in my_set)\n",
    "print(100 in my_set)\n"
   ]
  },
  {
   "cell_type": "markdown",
   "id": "c6688dc3",
   "metadata": {},
   "source": [
    "#### Mathematical set operations"
   ]
  },
  {
   "cell_type": "code",
   "execution_count": null,
   "id": "2ff8e533",
   "metadata": {},
   "outputs": [
    {
     "name": "stdout",
     "output_type": "stream",
     "text": [
      "{1, 2, 3, 4, 5, 6, 7, 8, 9}\n"
     ]
    }
   ],
   "source": [
    "\n",
    "set1 = {1,2,3,4,5}\n",
    "set2 = {3,4,5,6,7,8,9}\n",
    "\n",
    "# Union\n",
    "union_set = set1.union(set2)\n",
    "print(union_set)\n",
    "\n"
   ]
  },
  {
   "cell_type": "code",
   "execution_count": null,
   "id": "dfec541e",
   "metadata": {},
   "outputs": [
    {
     "name": "stdout",
     "output_type": "stream",
     "text": [
      "set()\n",
      "set()\n",
      "{1, 2}\n",
      "{1, 2}\n"
     ]
    }
   ],
   "source": [
    "# Intersection\n",
    "intersection_set = set1.intersection(set2)\n",
    "print(intersection_set)\n"
   ]
  },
  {
   "cell_type": "code",
   "execution_count": null,
   "id": "61dde72d",
   "metadata": {},
   "outputs": [
    {
     "name": "stdout",
     "output_type": "stream",
     "text": [
      "{3, 4, 5}\n"
     ]
    }
   ],
   "source": [
    "# Intersetion and update set1\n",
    "set1.intersection_update(set2)\n",
    "print(set1)"
   ]
  },
  {
   "cell_type": "code",
   "execution_count": null,
   "id": "4602148d",
   "metadata": {},
   "outputs": [
    {
     "name": "stdout",
     "output_type": "stream",
     "text": [
      "{1, 2}\n"
     ]
    }
   ],
   "source": [
    "# difference [set1-common(set1 & set2)]\n",
    "set1 = {1,2,3,4,5}\n",
    "set2 = {3,4,5,6,7,8,8}\n",
    "print(set1.difference(set2))"
   ]
  },
  {
   "cell_type": "code",
   "execution_count": null,
   "id": "f648c6e1",
   "metadata": {},
   "outputs": [
    {
     "name": "stdout",
     "output_type": "stream",
     "text": [
      "{1, 2}\n"
     ]
    }
   ],
   "source": [
    "# difference_update\n",
    "set1.difference_update(set2)\n",
    "print(set1) "
   ]
  },
  {
   "cell_type": "code",
   "execution_count": null,
   "id": "3de25c2b",
   "metadata": {},
   "outputs": [
    {
     "name": "stdout",
     "output_type": "stream",
     "text": [
      "{0, 1, 2, 3, 6, 7, 8, 9}\n"
     ]
    }
   ],
   "source": [
    "# Symmetric Difference i.e., union - intersection.  (removes the intersection elements)\n",
    "set1 = {1,2,3,4,5}\n",
    "set2 = {4,5,6,7,8,9,0}\n",
    "print(set1.symmetric_difference(set2))\n"
   ]
  },
  {
   "cell_type": "markdown",
   "id": "4dab7fdc",
   "metadata": {},
   "source": [
    "#### Sets Methods"
   ]
  },
  {
   "cell_type": "code",
   "execution_count": null,
   "id": "4b70a0b4",
   "metadata": {},
   "outputs": [
    {
     "name": "stdout",
     "output_type": "stream",
     "text": [
      "True\n",
      "False\n"
     ]
    }
   ],
   "source": [
    "set1 = {1,2,3,4}\n",
    "set2 = {1,2,3,4,5,6,7,8}\n",
    "\n",
    "# issubset method            i.e, set1 is child of set2\n",
    "print(set1.issubset(set2))\n",
    "\n",
    "# issuperset method           i.e, set1 is parent of set2\n",
    "print(set1.issuperset(set2))\n"
   ]
  },
  {
   "cell_type": "code",
   "execution_count": 6,
   "id": "c09fe548",
   "metadata": {},
   "outputs": [
    {
     "name": "stdout",
     "output_type": "stream",
     "text": [
      "Original Words : ['Hello', 'World.', 'I', 'am', 'learning', 'Python.', 'This', 'world', 'is', 'really', 'good.', 'This', 'is', 'really', 'good.']\n",
      "Unique Words : {'Hello', 'learning', 'World.', 'Python.', 'is', 'world', 'I', 'This', 'really', 'am', 'good.'}\n",
      "11\n"
     ]
    }
   ],
   "source": [
    "# Counting Unique words in text\n",
    "\n",
    "text = \"Hello World. I am learning Python. This world is really good. This is really good.\"\n",
    "list_text = text.split(\" \")\n",
    "print(f\"Original Words : {list_text}\")\n",
    "unique_words = set(list_text)\n",
    "print(f\"Unique Words : {unique_words}\")\n",
    "count_of_unique_words = len(unique_words)\n",
    "print(count_of_unique_words)"
   ]
  }
 ],
 "metadata": {
  "kernelspec": {
   "display_name": "base",
   "language": "python",
   "name": "python3"
  },
  "language_info": {
   "codemirror_mode": {
    "name": "ipython",
    "version": 3
   },
   "file_extension": ".py",
   "mimetype": "text/x-python",
   "name": "python",
   "nbconvert_exporter": "python",
   "pygments_lexer": "ipython3",
   "version": "3.12.7"
  }
 },
 "nbformat": 4,
 "nbformat_minor": 5
}
