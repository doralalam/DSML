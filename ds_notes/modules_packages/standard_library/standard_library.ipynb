{
 "cells": [
  {
   "cell_type": "markdown",
   "id": "2bf5a5ac",
   "metadata": {},
   "source": [
    "#### Standard Library Overview\n",
    "\n",
    "    1. Python's standard library is a vast collection of modules and packages comes out of box bundled with Python providing a range of functionalities.\n",
    "\n",
    "    2. Here are the few mostly used modules and packages in Python."
   ]
  },
  {
   "cell_type": "code",
   "execution_count": null,
   "id": "7289361f",
   "metadata": {},
   "outputs": [
    {
     "name": "stdout",
     "output_type": "stream",
     "text": [
      "array('i', [1, 2, 3, 4])\n",
      "<class 'array.array'>\n"
     ]
    }
   ],
   "source": [
    "import array\n",
    "arr = array.array('i',[1,2,3,4])        ## array(typecode [,initializer])\n",
    "print(arr)\n",
    "print(type(arr))"
   ]
  },
  {
   "cell_type": "code",
   "execution_count": 4,
   "id": "db40e989",
   "metadata": {},
   "outputs": [
    {
     "name": "stdout",
     "output_type": "stream",
     "text": [
      "10.0\n",
      "3.141592653589793\n"
     ]
    }
   ],
   "source": [
    "from math import *\n",
    "print(sqrt(100))\n",
    "print(pi)"
   ]
  },
  {
   "cell_type": "code",
   "execution_count": null,
   "id": "de271904",
   "metadata": {},
   "outputs": [
    {
     "name": "stdout",
     "output_type": "stream",
     "text": [
      "2\n",
      "mango\n"
     ]
    }
   ],
   "source": [
    "## random\n",
    "import random\n",
    "print(random.randint(1,10))         ## prints any random integer within the specified range\n",
    "print(random.choice([\"apple\", \"banana\", \"mango\", \"cherry\"]))"
   ]
  },
  {
   "cell_type": "code",
   "execution_count": 18,
   "id": "3e162125",
   "metadata": {},
   "outputs": [
    {
     "name": "stdout",
     "output_type": "stream",
     "text": [
      "/Users/dorababulalam/GitHub/DSML/ds_notes/modules_packages/standard_library\n"
     ]
    }
   ],
   "source": [
    "## File and Directory Access\n",
    "import os\n",
    "print(os.getcwd())"
   ]
  },
  {
   "cell_type": "code",
   "execution_count": 21,
   "id": "a36a6559",
   "metadata": {},
   "outputs": [
    {
     "name": "stdout",
     "output_type": "stream",
     "text": [
      "Error: Directory test_dir already exists\n"
     ]
    }
   ],
   "source": [
    "## to create a new directory along with exception handling\n",
    "dir_name = \"test_dir\"\n",
    "try:\n",
    "    os.mkdir(dir_name)      ## this command creates the directory\n",
    "except FileExistsError:\n",
    "    print(f\"Error: Directory {dir_name} already exists\")"
   ]
  },
  {
   "cell_type": "code",
   "execution_count": 32,
   "id": "07d4100a",
   "metadata": {},
   "outputs": [
    {
     "name": "stdout",
     "output_type": "stream",
     "text": [
      "File test_file.txt created successfully in /Users/dorababulalam/GitHub/DSML/ds_notes/modules_packages/standard_library/test_dir\n"
     ]
    }
   ],
   "source": [
    "## to create a test.txt file within the test_dir\n",
    "dir_path = os.getcwd()                                  ## get curr working directory\n",
    "dir_name = \"test_dir\"                                   ## new directory name\n",
    "new_dir_path = os.path.join(dir_path, dir_name)         ## join the new dir name with the curr working dir\n",
    "file_name = \"test_file.txt\"                              ## file name\n",
    "file_path = os.path.join(new_dir_path, file_name)       ## join the file_name to dir path\n",
    "try:\n",
    "    with open(file_path, 'w') as f:                         ## use file_path in write mode\n",
    "        f.write(\"This is the content of the new file\")\n",
    "        print(f\"File {file_name} created successfully in {new_dir_path}\")\n",
    "except Exception as e:\n",
    "    print(f\"Error occured: {e}\")"
   ]
  },
  {
   "cell_type": "code",
   "execution_count": 37,
   "id": "5917feb1",
   "metadata": {},
   "outputs": [
    {
     "name": "stdout",
     "output_type": "stream",
     "text": [
      "File Not Found [Errno 2] No such file or directory: '/Users/dorababulalam/GitHub/DSML/ds_notes/modules_packages/standard_library/test_dir/new_file.txt'\n"
     ]
    }
   ],
   "source": [
    "## to delete from another directory\n",
    "try:\n",
    "    del_file = os.path.join(new_dir_path, \"new_file.txt\")   ## took path from the previous cell \n",
    "    os.remove(del_file)                                     ## to delete a file from another directory\n",
    "except FileNotFoundError as error:\n",
    "    print(f\"File Not Found {error}\")"
   ]
  },
  {
   "cell_type": "code",
   "execution_count": 40,
   "id": "1b03241a",
   "metadata": {},
   "outputs": [
    {
     "data": {
      "text/plain": [
       "'copied_test_file.txt'"
      ]
     },
     "execution_count": 40,
     "metadata": {},
     "output_type": "execute_result"
    }
   ],
   "source": [
    "## High level operations on files and collection of files\n",
    "import shutil\n",
    "shutil.copyfile(\"test_dir/test_file.txt\", \"copied_test_file.txt\")"
   ]
  },
  {
   "cell_type": "code",
   "execution_count": 41,
   "id": "8ef77cd2",
   "metadata": {},
   "outputs": [
    {
     "name": "stdout",
     "output_type": "stream",
     "text": [
      "{\"name\": \"Dora\", \"age\": 25}\n",
      "<class 'str'>\n",
      "{'name': 'Dora', 'age': 25}\n",
      "<class 'dict'>\n"
     ]
    }
   ],
   "source": [
    "## Data Serialization\n",
    "import json\n",
    "data = {'name': \"Dora\", \"age\":25}\n",
    "json_str = json.dumps(data)\n",
    "print(json_str)\n",
    "print(type(json_str))\n",
    "\n",
    "parsed_data = json.loads(json_str)\n",
    "print(parsed_data)\n",
    "print(type(parsed_data))"
   ]
  },
  {
   "cell_type": "code",
   "execution_count": null,
   "id": "4ff155f4",
   "metadata": {},
   "outputs": [
    {
     "name": "stdout",
     "output_type": "stream",
     "text": [
      "['name', 'age']\n",
      "['Dora', '25']\n",
      "['Sai', '23']\n",
      "['name', 'age']\n",
      "['Dora', '25']\n",
      "['Sai', '23']\n",
      "['Rohith', '24']\n",
      "['Azeez', '25']\n",
      "['Sai Naga', '24']\n"
     ]
    }
   ],
   "source": [
    "## CSV\n",
    "import csv\n",
    "with open('example.csv', mode= 'w', newline='') as file:        ## File opened in write mode\n",
    "    writer = csv.writer(file)                                   ## csv writer function\n",
    "    writer.writerow(['name', 'age'])\n",
    "    writer.writerow(['Dora', 25])\n",
    "    writer.writerow(['Sai', 23])\n",
    "\n",
    "with open('example.csv', mode='r') as file:                     ## File opened in read mode\n",
    "    reader = csv.reader(file)                                   ## csv reader function\n",
    "    for row in reader:\n",
    "        print(row)\n",
    "\n",
    "with open('example.csv', mode= '+a') as file:                   ## File opened in append mode\n",
    "    writer = csv.writer(file)\n",
    "    writer.writerow(['Rohith', 24])\n",
    "    writer.writerow(['Azeez', 25])\n",
    "    writer.writerow(['Sai Naga', 24])\n",
    "\n",
    "with open('example.csv', mode='r') as file:                     ## File opened in read mode\n",
    "    reader = csv.reader(file)\n",
    "    for row in reader:\n",
    "        print(row)\n"
   ]
  },
  {
   "cell_type": "code",
   "execution_count": 52,
   "id": "3f8498ea",
   "metadata": {},
   "outputs": [
    {
     "name": "stdout",
     "output_type": "stream",
     "text": [
      "2025-07-17 14:38:41.871953\n",
      "2025-07-16 14:38:41.871953\n"
     ]
    }
   ],
   "source": [
    "## datetime\n",
    "from datetime import datetime, timedelta\n",
    "now = datetime.now()\n",
    "print(now)\n",
    "\n",
    "yesterday = now - timedelta(days=1)\n",
    "print(yesterday)"
   ]
  },
  {
   "cell_type": "code",
   "execution_count": 54,
   "id": "0c27955e",
   "metadata": {},
   "outputs": [
    {
     "name": "stdout",
     "output_type": "stream",
     "text": [
      "1752743450.6287549\n",
      "1752743452.634086\n"
     ]
    }
   ],
   "source": [
    "## time\n",
    "import time\n",
    "print(time.time())                  ## current time\n",
    "time.sleep(2)                       ## sleep for 2 seconds\n",
    "print(time.time())                  ## time after sleeping for 2 seconds"
   ]
  },
  {
   "cell_type": "code",
   "execution_count": null,
   "id": "bf32c7ff",
   "metadata": {},
   "outputs": [
    {
     "name": "stdout",
     "output_type": "stream",
     "text": [
      "<re.Match object; span=(10, 13), match='123'>\n",
      "123\n"
     ]
    }
   ],
   "source": [
    "## regular expression [re]\n",
    "import re\n",
    "pattern = r'\\d+'                                ## \\d+ indicates numbers\n",
    "text = 'There are 123 apples and 456 bananas'\n",
    "matched = re.search(pattern, text)\n",
    "print(matched)\n",
    "print(matched.group())                          ## returns first matched group"
   ]
  },
  {
   "cell_type": "markdown",
   "id": "543e4641",
   "metadata": {},
   "source": [
    "#### Conclusion\n",
    "\n",
    "    Python provides extensive tools for almost any task"
   ]
  }
 ],
 "metadata": {
  "kernelspec": {
   "display_name": "base",
   "language": "python",
   "name": "python3"
  },
  "language_info": {
   "codemirror_mode": {
    "name": "ipython",
    "version": 3
   },
   "file_extension": ".py",
   "mimetype": "text/x-python",
   "name": "python",
   "nbconvert_exporter": "python",
   "pygments_lexer": "ipython3",
   "version": "3.12.7"
  }
 },
 "nbformat": 4,
 "nbformat_minor": 5
}
