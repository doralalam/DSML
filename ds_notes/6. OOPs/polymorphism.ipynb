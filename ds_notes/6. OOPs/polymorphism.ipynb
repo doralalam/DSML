{
 "cells": [
  {
   "cell_type": "markdown",
   "id": "b4aeb0f7",
   "metadata": {},
   "source": [
    "#### Polymorphism\n",
    "\n",
    "Polymorphism is a core concept in Object Oriented Programming that allows objects of different classes to be treated as objects of common superclass. \n",
    "\n",
    "It provides a way to perform single action in different forms.\n",
    "\n",
    "Polymorphism can be achieved typically through method overriding and interfaces"
   ]
  },
  {
   "cell_type": "markdown",
   "id": "8c8af664",
   "metadata": {},
   "source": [
    "#### Method Overriding\n",
    "\n",
    "Method overriding allows child class to provide specific implementation of a method that is already present in parent class"
   ]
  },
  {
   "cell_type": "code",
   "execution_count": 1,
   "id": "f1edd2ec",
   "metadata": {},
   "outputs": [
    {
     "name": "stdout",
     "output_type": "stream",
     "text": [
      "Animals can Speak\n",
      "Dogs bark as Bow Bow!\n",
      "Cats shout as Meow!\n"
     ]
    }
   ],
   "source": [
    "## Method Overriding\n",
    "\n",
    "## Base Class\n",
    "class Animal:\n",
    "    def speak(self):\n",
    "        return 'Animals can Speak'\n",
    "\n",
    "## Derived Class 1\n",
    "class Dog(Animal):\n",
    "    def speak(self):\n",
    "        return 'Dogs bark as Bow Bow!'\n",
    "\n",
    "## Derived Class 2\n",
    "class Cat(Animal):\n",
    "    def speak(self):\n",
    "        return 'Cats shout as Meow!'\n",
    "\n",
    "## Object\n",
    "ob1 = Animal()\n",
    "ob2 = Dog()\n",
    "ob3 = Cat()\n",
    "print(ob1.speak())\n",
    "print(ob2.speak())\n",
    "print(ob3.speak())"
   ]
  },
  {
   "cell_type": "code",
   "execution_count": 8,
   "id": "576780e0",
   "metadata": {},
   "outputs": [
    {
     "name": "stdout",
     "output_type": "stream",
     "text": [
      "Animals can Speak\n",
      "Dogs bark as Bow Bow!\n",
      "Cats shout as Meow!\n"
     ]
    }
   ],
   "source": [
    "## Demonstration of Polymorphism using Functions\n",
    "\n",
    "## Base Class\n",
    "class Animal:\n",
    "    def speak(self):\n",
    "        return 'Animals can Speak'\n",
    "\n",
    "## Derived Class 1\n",
    "class Dog(Animal):\n",
    "    def speak(self):\n",
    "        return 'Dogs bark as Bow Bow!'\n",
    "\n",
    "## Derived Class 2\n",
    "class Cat(Animal):\n",
    "    def speak(self):\n",
    "        return 'Cats shout as Meow!'\n",
    "    \n",
    "## Function to demonstrate Polymorphism\n",
    "def animal_sound(animal):\n",
    "    print(animal.speak())\n",
    "\n",
    "## Object\n",
    "animal = Animal()\n",
    "dog = Dog()\n",
    "cat = Cat()\n",
    "animal_sound(animal)\n",
    "animal_sound(dog)\n",
    "animal_sound(cat)\n"
   ]
  },
  {
   "cell_type": "code",
   "execution_count": 11,
   "id": "7cb84708",
   "metadata": {},
   "outputs": [
    {
     "name": "stdout",
     "output_type": "stream",
     "text": [
      "This Code is to return the area of the given shape\n",
      "The area of the given rectangle is 20\n",
      "The area of the given circle is 314.0\n"
     ]
    }
   ],
   "source": [
    "## Polymorphism with Functions and Methods\n",
    "\n",
    "## Base Class\n",
    "class Shape:\n",
    "    def area(self):\n",
    "        return 'This Code is to return the area of the given shape'\n",
    "    \n",
    "## Derived Class 1\n",
    "class Rectangle(Shape):\n",
    "    ## Constructor\n",
    "    def __init__(self, height, width):\n",
    "        self.height = height\n",
    "        self.width = width\n",
    "\n",
    "    def area(self):\n",
    "        return f'The area of the given rectangle is {self.height*self.width}'\n",
    "\n",
    "## Derived Class 2\n",
    "class Circle(Shape):\n",
    "    ## Constructor:\n",
    "    def __init__(self, radius):\n",
    "        self.radius = radius\n",
    "\n",
    "    def area(self):\n",
    "        return f'The area of the given circle is {3.14*self.radius*self.radius}'\n",
    "    \n",
    "## Function to demonstrate polymorphism\n",
    "def find_area(shape):\n",
    "    print(shape.area())\n",
    "\n",
    "## Creating Objects\n",
    "ob1 = Shape()\n",
    "find_area(ob1)\n",
    "ob2 = Rectangle(4,5)\n",
    "find_area(ob2)\n",
    "ob3 = Circle(10)\n",
    "find_area(ob3)"
   ]
  },
  {
   "cell_type": "markdown",
   "id": "23dfe60c",
   "metadata": {},
   "source": [
    "#### Polymorphism with Abstract Base Classes\n"
   ]
  },
  {
   "cell_type": "code",
   "execution_count": 3,
   "id": "fe55cd60",
   "metadata": {},
   "outputs": [
    {
     "name": "stdout",
     "output_type": "stream",
     "text": [
      "Car egnine started\n",
      "Bike engine started\n"
     ]
    }
   ],
   "source": [
    "from abc import ABC, abstractmethod\n",
    "\n",
    "## Define abstract class\n",
    "class Vehicle(ABC):\n",
    "    ## Define abstract method\n",
    "    @abstractmethod\n",
    "    def start_engine(self):\n",
    "        pass\n",
    "    \n",
    "## Derived class 1\n",
    "class Car(Vehicle):\n",
    "    def start_engine(self):\n",
    "        return \"Car egnine started\"\n",
    "    \n",
    "## Derived Class 2\n",
    "class Bike(Vehicle):\n",
    "    def start_engine(self):\n",
    "        return \"Bike engine started\"\n",
    "    \n",
    "## Function to execute Polymorphism\n",
    "def start_vehicle(Vehicle):\n",
    "    print(Vehicle.start_engine())\n",
    "\n",
    "## Create Objects\n",
    "car = Car()\n",
    "bike = Bike()\n",
    "\n",
    "start_vehicle(car)\n",
    "start_vehicle(bike)\n"
   ]
  },
  {
   "cell_type": "markdown",
   "id": "42014201",
   "metadata": {},
   "source": [
    "#### Conclusion\n",
    "\n",
    "Polymorphism is a powerful feature of OOP that allows for flexibility and integration of code design. \n",
    "\n",
    "It enables a single function to handle objects of different classes, each with its own implementation"
   ]
  }
 ],
 "metadata": {
  "kernelspec": {
   "display_name": "base",
   "language": "python",
   "name": "python3"
  },
  "language_info": {
   "codemirror_mode": {
    "name": "ipython",
    "version": 3
   },
   "file_extension": ".py",
   "mimetype": "text/x-python",
   "name": "python",
   "nbconvert_exporter": "python",
   "pygments_lexer": "ipython3",
   "version": "3.12.7"
  }
 },
 "nbformat": 4,
 "nbformat_minor": 5
}
