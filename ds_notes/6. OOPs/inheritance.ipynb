{
 "cells": [
  {
   "cell_type": "markdown",
   "id": "1f2cd2ac",
   "metadata": {},
   "source": [
    "## Inheritance\n",
    "\n",
    "Inheritance is a fundamental concept in Python programming as this allows a class to inherit attributes and methods from one class to another class.\n",
    "\n",
    "This note has covered single inhertiance and multiple inheritance"
   ]
  },
  {
   "cell_type": "code",
   "execution_count": 10,
   "id": "905f2ae9",
   "metadata": {},
   "outputs": [
    {
     "name": "stdout",
     "output_type": "stream",
     "text": [
      "The person will drive the electric car\n",
      "Tesla Car supports selva driving : True\n",
      "Windows : 6\n",
      "Doors : 4\n",
      "EngineType : electric\n"
     ]
    }
   ],
   "source": [
    "## Inheritance (Single Inheritance)\n",
    "\n",
    "## Parent Class\n",
    "class Car:\n",
    "    ## Constructor\n",
    "    def __init__(self, windows, doors, enginetype):\n",
    "        self.windows = windows\n",
    "        self.doors = doors\n",
    "        self.enginetype = enginetype\n",
    "\n",
    "    def drive(self):\n",
    "        print(f'The person will drive the {self.enginetype} car')\n",
    "\n",
    "\n",
    "## Child Class\n",
    "class Tesla(Car):\n",
    "    ## Constructor\n",
    "    def __init__(self, windows, doors, enginetype, is_selfdriving):\n",
    "        super().__init__(windows, doors, enginetype)\n",
    "        self.is_selfdriving = is_selfdriving\n",
    "\n",
    "    def selfdriving(self):\n",
    "        print(f'Tesla Car supports selva driving : {self.is_selfdriving}')\n",
    "\n",
    "\n",
    "## Creating Object\n",
    "car1 = Tesla(6,4,'electric',True)\n",
    "car1.drive()\n",
    "car1.selfdriving()\n",
    "print(f'Windows : {car1.windows}')\n",
    "print(f'Doors : {car1.doors}')\n",
    "print(f'EngineType : {car1.enginetype}')"
   ]
  },
  {
   "cell_type": "markdown",
   "id": "7bf84087",
   "metadata": {},
   "source": [
    "#### Multiple Inheritance\n",
    "\n",
    "When a class is inheriting attributes from more than one base (parent) class, then it is callled as Multiple Inheritance"
   ]
  },
  {
   "cell_type": "code",
   "execution_count": 14,
   "id": "9d9ff8f9",
   "metadata": {},
   "outputs": [
    {
     "name": "stdout",
     "output_type": "stream",
     "text": [
      "Owner Name : Dora\n",
      "Animal Name : Dog\n",
      "Dora is the owner of Dog\n"
     ]
    }
   ],
   "source": [
    "## Mutliple Inheritance\n",
    "\n",
    "## Base Class 1\n",
    "class Animal:\n",
    "    ## Constructor\n",
    "    def __init__(self, name):\n",
    "        self.name = name\n",
    "\n",
    "    def own(self):\n",
    "        print(f\"We don't know the owner of {self.name}\")\n",
    "\n",
    "\n",
    "## Base Class 2:\n",
    "class Owner:\n",
    "    ## Constructor\n",
    "    def __init__(self, owner_name):\n",
    "        self.owner_name = owner_name\n",
    "\n",
    "\n",
    "\n",
    "## Derived Class\n",
    "class Pet(Animal, Owner):\n",
    "    ## Constructor\n",
    "    def __init__(self, name, owner_name):\n",
    "        Animal.__init__(self, name)\n",
    "        Owner.__init__(self, owner_name)\n",
    "\n",
    "    ## Method in Derived class has highest priority than the Base Class\n",
    "    def own(self):\n",
    "        print(f'{self.owner_name} is the owner of {self.name}')\n",
    "\n",
    "## Creating Object\n",
    "new_animal = Pet('Dog', 'Dora')\n",
    "print(f'Owner Name : {new_animal.owner_name}')\n",
    "print(f'Animal Name : {new_animal.name}')\n",
    "new_animal.own()"
   ]
  }
 ],
 "metadata": {
  "kernelspec": {
   "display_name": "base",
   "language": "python",
   "name": "python3"
  },
  "language_info": {
   "codemirror_mode": {
    "name": "ipython",
    "version": 3
   },
   "file_extension": ".py",
   "mimetype": "text/x-python",
   "name": "python",
   "nbconvert_exporter": "python",
   "pygments_lexer": "ipython3",
   "version": "3.12.7"
  }
 },
 "nbformat": 4,
 "nbformat_minor": 5
}
