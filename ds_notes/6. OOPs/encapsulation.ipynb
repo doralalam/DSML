{
 "cells": [
  {
   "cell_type": "markdown",
   "id": "20ef90a4",
   "metadata": {},
   "source": [
    "#### Encapsulation\n",
    "\n",
    "Encapsulation is the process of wrapping the data (variables) and methods (functions) as a single unit.\n",
    "\n",
    "It restricts the direct access to some of the object's components, which is a means of preventing the accidental interference and misuse of the data\n"
   ]
  },
  {
   "cell_type": "markdown",
   "id": "f3d33034",
   "metadata": {},
   "source": [
    "#### Access Modifiers\n",
    "\n",
    "1. Public           - These attributes can be accessed from anywhere inside a program\n",
    "\n",
    "2. Private ( __ )     - These attributes can't be accessed outside the base class\n",
    "\n",
    "3. Protected ( _ )    - These attributes can be accessed from the base class and from the derived class as well"
   ]
  },
  {
   "cell_type": "code",
   "execution_count": null,
   "id": "d7d6042d",
   "metadata": {},
   "outputs": [
    {
     "name": "stdout",
     "output_type": "stream",
     "text": [
      "Sai\n"
     ]
    },
    {
     "data": {
      "text/plain": [
       "['__class__',\n",
       " '__delattr__',\n",
       " '__dict__',\n",
       " '__dir__',\n",
       " '__doc__',\n",
       " '__eq__',\n",
       " '__format__',\n",
       " '__ge__',\n",
       " '__getattribute__',\n",
       " '__getstate__',\n",
       " '__gt__',\n",
       " '__hash__',\n",
       " '__init__',\n",
       " '__init_subclass__',\n",
       " '__le__',\n",
       " '__lt__',\n",
       " '__module__',\n",
       " '__ne__',\n",
       " '__new__',\n",
       " '__reduce__',\n",
       " '__reduce_ex__',\n",
       " '__repr__',\n",
       " '__setattr__',\n",
       " '__sizeof__',\n",
       " '__str__',\n",
       " '__subclasshook__',\n",
       " '__weakref__',\n",
       " 'age',\n",
       " 'gender',\n",
       " 'name']"
      ]
     },
     "execution_count": 4,
     "metadata": {},
     "output_type": "execute_result"
    }
   ],
   "source": [
    "## Encapsulation using Public Access Modifier\n",
    "\n",
    "## Base Class\n",
    "class Person():\n",
    "    def __init__(self, name, age, gender):\n",
    "        self.name = name        ## public variable\n",
    "        self.age = age          ## public variable\n",
    "        self.gender = gender    ## public varibale\n",
    "\n",
    "## Derived Class\n",
    "class Employee(Person):\n",
    "    def __init__(self, name, age, gender):\n",
    "        super().__init__(name, age, gender)\n",
    "\n",
    "## Employee Object\n",
    "employee = Employee('Sai',23,'M')\n",
    "print(employee.name)\n",
    "\n",
    "## directory of the object\n",
    "dir(employee)\n"
   ]
  },
  {
   "cell_type": "code",
   "execution_count": 9,
   "id": "c7e415e0",
   "metadata": {},
   "outputs": [
    {
     "name": "stdout",
     "output_type": "stream",
     "text": [
      "Sai\n"
     ]
    },
    {
     "data": {
      "text/plain": [
       "['__class__',\n",
       " '__delattr__',\n",
       " '__dict__',\n",
       " '__dir__',\n",
       " '__doc__',\n",
       " '__eq__',\n",
       " '__format__',\n",
       " '__ge__',\n",
       " '__getattribute__',\n",
       " '__getstate__',\n",
       " '__gt__',\n",
       " '__hash__',\n",
       " '__init__',\n",
       " '__init_subclass__',\n",
       " '__le__',\n",
       " '__lt__',\n",
       " '__module__',\n",
       " '__ne__',\n",
       " '__new__',\n",
       " '__reduce__',\n",
       " '__reduce_ex__',\n",
       " '__repr__',\n",
       " '__setattr__',\n",
       " '__sizeof__',\n",
       " '__str__',\n",
       " '__subclasshook__',\n",
       " '__weakref__',\n",
       " '_age',\n",
       " '_gender',\n",
       " '_name']"
      ]
     },
     "execution_count": 9,
     "metadata": {},
     "output_type": "execute_result"
    }
   ],
   "source": [
    "## Encapsulation using Protected Access Modifier\n",
    "\n",
    "## Base Class\n",
    "class Person():\n",
    "    def __init__(self, name, age, gender):\n",
    "        self._name = name        ## protected variable\n",
    "        self._age = age          ## protected variable\n",
    "        self._gender = gender    ## protected varibale\n",
    "\n",
    "## Derived Class\n",
    "class Employee(Person):\n",
    "    def __init__(self, name, age, gender):\n",
    "        super().__init__(name, age, gender)\n",
    "\n",
    "## Employee Object\n",
    "employee = Employee('Sai',23,'M')\n",
    "print(employee._name)\n",
    "\n",
    "## directory of the object\n",
    "dir(employee)\n"
   ]
  },
  {
   "cell_type": "code",
   "execution_count": 14,
   "id": "db166ac1",
   "metadata": {},
   "outputs": [
    {
     "data": {
      "text/plain": [
       "['_Person__age',\n",
       " '_Person__gender',\n",
       " '_Person__name',\n",
       " '__class__',\n",
       " '__delattr__',\n",
       " '__dict__',\n",
       " '__dir__',\n",
       " '__doc__',\n",
       " '__eq__',\n",
       " '__format__',\n",
       " '__ge__',\n",
       " '__getattribute__',\n",
       " '__getstate__',\n",
       " '__gt__',\n",
       " '__hash__',\n",
       " '__init__',\n",
       " '__init_subclass__',\n",
       " '__le__',\n",
       " '__lt__',\n",
       " '__module__',\n",
       " '__ne__',\n",
       " '__new__',\n",
       " '__reduce__',\n",
       " '__reduce_ex__',\n",
       " '__repr__',\n",
       " '__setattr__',\n",
       " '__sizeof__',\n",
       " '__str__',\n",
       " '__subclasshook__',\n",
       " '__weakref__']"
      ]
     },
     "execution_count": 14,
     "metadata": {},
     "output_type": "execute_result"
    }
   ],
   "source": [
    "## Encapsulation using Private Access Modifier\n",
    "\n",
    "## Base Class\n",
    "class Person():\n",
    "    def __init__(self, name, age, gender):\n",
    "        self.__name = name        ## private variable\n",
    "        self.__age = age          ## private variable\n",
    "        self.__gender = gender    ## private varibale\n",
    "\n",
    "## Derived Class\n",
    "class Employee(Person):\n",
    "    def __init__(self, name, age, gender):\n",
    "        super().__init__(name, age, gender)\n",
    "\n",
    "\n",
    "## Employee Object\n",
    "employee = Employee('Sai',23,'M')\n",
    "\n",
    "## directory of the object\n",
    "dir(employee)\n",
    "\n",
    "\n",
    "\n"
   ]
  },
  {
   "cell_type": "code",
   "execution_count": 31,
   "id": "9e6707e1",
   "metadata": {},
   "outputs": [
    {
     "name": "stdout",
     "output_type": "stream",
     "text": [
      "Sai\n",
      "20\n",
      "Ram\n",
      "50\n",
      "Age should not be less than 0\n"
     ]
    }
   ],
   "source": [
    "## Encapsulation with Getter and Setter Methods (Private Access Modifier)\n",
    "\n",
    "class Person():\n",
    "    ## constructor\n",
    "    def __init__(self,name,age):\n",
    "        self.__name = name          ## private variable\n",
    "        self.__age = age            ## private variable\n",
    "\n",
    "    ## getter method for name\n",
    "    def get_name(self):\n",
    "        return self.__name\n",
    "    \n",
    "    ## setter method for name\n",
    "    def set_name(self,name):\n",
    "        self.__name = name\n",
    "\n",
    "    ## getter method for age\n",
    "    def get_age(self):\n",
    "        return self.__age\n",
    "    \n",
    "    ## setter method for age\n",
    "    def set_age(self,age):\n",
    "        if age > 0:\n",
    "            self.__age = age\n",
    "        else:\n",
    "            print(\"Age should not be less than 0\")\n",
    "\n",
    "person = Person('Sai', 20)\n",
    "print(person.get_name())\n",
    "print(person.get_age())\n",
    "person.set_name('Ram')\n",
    "person.set_age(50)\n",
    "print(person.get_name())\n",
    "print(person.get_age())\n",
    "person.set_age(-10)"
   ]
  }
 ],
 "metadata": {
  "kernelspec": {
   "display_name": "base",
   "language": "python",
   "name": "python3"
  },
  "language_info": {
   "codemirror_mode": {
    "name": "ipython",
    "version": 3
   },
   "file_extension": ".py",
   "mimetype": "text/x-python",
   "name": "python",
   "nbconvert_exporter": "python",
   "pygments_lexer": "ipython3",
   "version": "3.12.7"
  }
 },
 "nbformat": 4,
 "nbformat_minor": 5
}
