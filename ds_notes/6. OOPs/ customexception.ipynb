{
 "cells": [
  {
   "cell_type": "markdown",
   "id": "5d27bcf0",
   "metadata": {},
   "source": [
    "#### Custom Exception Handling"
   ]
  },
  {
   "cell_type": "code",
   "execution_count": null,
   "id": "e88b3752",
   "metadata": {},
   "outputs": [],
   "source": [
    "## Derived Clas inherited from the Exception class\n",
    "class Error(Exception):\n",
    "    pass\n",
    "\n",
    "## Custom Exception derived from the Error class\n",
    "class DOBException(Error):\n",
    "    pass"
   ]
  },
  {
   "cell_type": "code",
   "execution_count": 6,
   "id": "7b1aac08",
   "metadata": {},
   "outputs": [
    {
     "name": "stdout",
     "output_type": "stream",
     "text": [
      "Your age does not match the requirement !!!\n"
     ]
    }
   ],
   "source": [
    "yearOfBirth = int(input('Enter your year of birth'))\n",
    "age = 2024-yearOfBirth\n",
    "try:\n",
    "    if age < 30 and age > 20:\n",
    "        print('You are allowed !!!')\n",
    "    else:\n",
    "        ## raise the custom exception\n",
    "        raise DOBException\n",
    "## catch the exception\n",
    "except DOBException:\n",
    "    ## handling the exception\n",
    "    print('Your age does not match the requirement !!!')"
   ]
  }
 ],
 "metadata": {
  "kernelspec": {
   "display_name": "base",
   "language": "python",
   "name": "python3"
  },
  "language_info": {
   "codemirror_mode": {
    "name": "ipython",
    "version": 3
   },
   "file_extension": ".py",
   "mimetype": "text/x-python",
   "name": "python",
   "nbconvert_exporter": "python",
   "pygments_lexer": "ipython3",
   "version": "3.12.7"
  }
 },
 "nbformat": 4,
 "nbformat_minor": 5
}
