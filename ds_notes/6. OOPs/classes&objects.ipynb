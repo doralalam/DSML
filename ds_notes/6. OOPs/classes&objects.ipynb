{
 "cells": [
  {
   "cell_type": "markdown",
   "id": "d8248e38",
   "metadata": {},
   "source": [
    "## Classes and Objects\n",
    "\n",
    "Object-Oriented Programming is a programming paradigm that uses 'objects' to design applications and computer programs.\n",
    "\n",
    "OOP allows modeling real-world scenarios using classes and objects.\n"
   ]
  },
  {
   "cell_type": "code",
   "execution_count": 2,
   "id": "cb7551b4",
   "metadata": {},
   "outputs": [
    {
     "name": "stdout",
     "output_type": "stream",
     "text": [
      "<__main__.Car object at 0x10900c890>\n",
      "<class '__main__.Car'>\n",
      "<__main__.Car object at 0x10900c680>\n",
      "<class '__main__.Car'>\n"
     ]
    }
   ],
   "source": [
    "## A class is a blue-print of object\n",
    "\n",
    "class Car:                              ## class\n",
    "    pass\n",
    "\n",
    "audi = Car()                            ## Object\n",
    "volvo = Car()\n",
    "\n",
    "print(audi)                             ## Returns memory location of the object\n",
    "print(type(audi))                       ## Returns the type\n",
    "print(volvo)\n",
    "print(type(volvo))"
   ]
  },
  {
   "cell_type": "code",
   "execution_count": 6,
   "id": "5b9268ac",
   "metadata": {},
   "outputs": [
    {
     "name": "stdout",
     "output_type": "stream",
     "text": [
      "Dog has 4 hands\n",
      "Dog has 0 legs\n",
      "Monkey has 2 hands\n",
      "Monkey has 2 legs\n"
     ]
    }
   ],
   "source": [
    "## Contructor, Instance Variables and Methods\n",
    "\n",
    "class Animal:\n",
    "    ## constructor is initialised first when the program is executed. So, all the instance variables are mentioned in the constructor\n",
    "    def __init__(self, hands, legs):\n",
    "        ## attributes of the class will be mentioned as instance variables\n",
    "        self.legs = legs            ## Instance variable 1\n",
    "        self.hands = hands          ## Instance variable 2\n",
    "    \n",
    "## Object 1\n",
    "dog = Animal(4, 0)\n",
    "## Object 2\n",
    "cat = Animal(4,0)\n",
    "## Object 3\n",
    "monkey = Animal(2,2)\n",
    "\n",
    "## Accessing the attributes of the class using objects\n",
    "print(f'Dog has {dog.hands} hands')\n",
    "print(f'Dog has {dog.legs} legs')\n",
    "\n",
    "print(f'Monkey has {monkey.hands} hands')\n",
    "print(f'Monkey has {monkey.legs} legs')\n"
   ]
  },
  {
   "cell_type": "code",
   "execution_count": 14,
   "id": "62d96fff",
   "metadata": {},
   "outputs": [
    {
     "name": "stdout",
     "output_type": "stream",
     "text": [
      "Dog\n",
      "Dog is 2 years old\n",
      "Dog barks as BowBow\n",
      "Cat\n",
      "Cat is 3 years old\n",
      "Cat barks as Meow\n"
     ]
    }
   ],
   "source": [
    "## Defining a class with instance variable\n",
    "\n",
    "class Animal:\n",
    "    ## contructor\n",
    "    def __init__(self, name, age, sound):\n",
    "        ## Instance Variables\n",
    "        self.name = name\n",
    "        self.age = age\n",
    "        self.sound = sound\n",
    "\n",
    "    ## Instance Method\n",
    "    ## Intsnace method can access the attributes from contructor\n",
    "    def bark(self):\n",
    "        print(f'{self.name} barks as {self.sound}')\n",
    "\n",
    "dog = Animal('Dog', 2, 'BowBow')\n",
    "cat = Animal('Cat', 3, 'Meow')\n",
    "print(dog.name)\n",
    "print(f'{dog.name} is {dog.age} years old')\n",
    "dog.bark()\n",
    "print(cat.name)\n",
    "print(f'{cat.name} is {cat.age} years old')\n",
    "cat.bark()"
   ]
  },
  {
   "cell_type": "code",
   "execution_count": 19,
   "id": "19a4e4e4",
   "metadata": {},
   "outputs": [
    {
     "name": "stdout",
     "output_type": "stream",
     "text": [
      "Insufficient Funds\n",
      "5000 has been deposited. New balance is 5000\n",
      "2000 has been withdrawn. New balance is 3000\n",
      "New balance is 3000\n",
      "\n",
      "New balance is 1000\n",
      "200 has been withdrawn. New balance is 800\n"
     ]
    }
   ],
   "source": [
    "## Modeling a bank account\n",
    "\n",
    "class Bank:\n",
    "    ## Contructor\n",
    "    def __init__(self, owner, balance=0):\n",
    "        self.owner = owner\n",
    "        self.balance = balance\n",
    "\n",
    "    ## Instance Method\n",
    "    def deposit(self, amount):\n",
    "        self.balance+=amount\n",
    "        print(f'{amount} has been deposited. New balance is {self.balance}')\n",
    "\n",
    "    ## Instance Method\n",
    "    def withdraw(self, amount):\n",
    "        if amount>self.balance:\n",
    "            print('Insufficient Funds')\n",
    "        else:\n",
    "            self.balance-=amount\n",
    "            print(f'{amount} has been withdrawn. New balance is {self.balance}')\n",
    "\n",
    "    ## Instance Method\n",
    "    def get_balance(self):\n",
    "        print(f'New balance is {self.balance}')\n",
    "\n",
    "## Creating Bank Accounts\n",
    "\n",
    "Ram = Bank('Ram')\n",
    "Ram.withdraw(500)\n",
    "Ram.deposit(5000)\n",
    "Ram.withdraw(2000)\n",
    "Ram.get_balance()\n",
    "\n",
    "print()\n",
    "\n",
    "Naveen = Bank('Naveen', 1000)\n",
    "Naveen.get_balance()\n",
    "Naveen.withdraw(200)"
   ]
  }
 ],
 "metadata": {
  "kernelspec": {
   "display_name": "base",
   "language": "python",
   "name": "python3"
  },
  "language_info": {
   "codemirror_mode": {
    "name": "ipython",
    "version": 3
   },
   "file_extension": ".py",
   "mimetype": "text/x-python",
   "name": "python",
   "nbconvert_exporter": "python",
   "pygments_lexer": "ipython3",
   "version": "3.12.7"
  }
 },
 "nbformat": 4,
 "nbformat_minor": 5
}
