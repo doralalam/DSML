{
 "cells": [
  {
   "cell_type": "markdown",
   "id": "0279c6fd",
   "metadata": {},
   "source": [
    "#### Operator Over-loading\n",
    "\n",
    "Operator Overloading allows us to re-define the behaviour of operators (+,_,*,/) over custom objects.\n",
    "\n",
    "We can achieve this by over-riding certain magic methods."
   ]
  },
  {
   "cell_type": "markdown",
   "id": "4da8d229",
   "metadata": {},
   "source": [
    "#### Diff btw arithmetic operations between scalar and vector\n",
    "\n",
    "    Scalar addition:\n",
    "        a = 1\n",
    "        b = 5\n",
    "        c = a + b\n",
    "        i.e., c = 6\n",
    "\n",
    "    Vector addition:\n",
    "        lst1 = [1,2,3]\n",
    "        lst2 = [5,7,8]\n",
    "        lst3 = lst1 + lst2\n",
    "        i.e., lst3 = [6,9,11]\n",
    "\n",
    "There are no in-built operators in python to perform vector arithmetic operations"
   ]
  },
  {
   "cell_type": "code",
   "execution_count": 11,
   "id": "49fa2d46",
   "metadata": {},
   "outputs": [
    {
     "name": "stdout",
     "output_type": "stream",
     "text": [
      "3\n",
      "15\n"
     ]
    }
   ],
   "source": [
    "class Scalar:\n",
    "    def __init__(self,a,b):\n",
    "        self.a = a\n",
    "        self.b = b\n",
    "\n",
    "s1 = Scalar(1,2)\n",
    "s2 = Scalar(5,10)\n",
    "print(s1.a+s1.b)\n",
    "print(s2.a+s2.b)"
   ]
  },
  {
   "cell_type": "code",
   "execution_count": 50,
   "id": "833c04e5",
   "metadata": {},
   "outputs": [
    {
     "name": "stdout",
     "output_type": "stream",
     "text": [
      "(6, 12)\n",
      "(-4, -8)\n",
      "(10, 20)\n",
      "False\n",
      "Vector = (1,2) Vector = (5,10)\n"
     ]
    }
   ],
   "source": [
    "class Vector(Scalar):\n",
    "    def __init__(self,a,b):\n",
    "        super().__init__(a,b)\n",
    "\n",
    "    def __add__(self,other):\n",
    "        return (self.a+other.a,self.b+other.b)\n",
    "    \n",
    "    def __sub__(self,other):\n",
    "        return (self.a-other.a, self.b-other.b)\n",
    "    \n",
    "    def __mul__(self,other):\n",
    "        return (self.a*other,self.b*other)\n",
    "    \n",
    "    def __eq__(self, other):\n",
    "        return self.a == other.a and self.b == other.b\n",
    "    \n",
    "    def __repr__(self):\n",
    "        return f'Vector = ({self.a},{self.b})'\n",
    "\n",
    "\n",
    "## Vector Objects\n",
    "v1 = Vector(1,2)\n",
    "v2 = Vector(5,10)\n",
    "\n",
    "print(v1+v2)\n",
    "print(v1-v2)\n",
    "print(v1*10)\n",
    "print(v1==v2)\n",
    "print(v1,v2)\n",
    "\n"
   ]
  },
  {
   "cell_type": "code",
   "execution_count": 64,
   "id": "2a9076c6",
   "metadata": {},
   "outputs": [
    {
     "name": "stdout",
     "output_type": "stream",
     "text": [
      "6+9i\n",
      "-4+-5i\n",
      "-9+17i\n"
     ]
    }
   ],
   "source": [
    "class ComplexNumber:\n",
    "    def __init__(self,real,imag):\n",
    "        self.real = real\n",
    "        self.imag = imag\n",
    "\n",
    "    def __add__(self,other):\n",
    "        return f'{self.real+other.real}+{self.imag+other.imag}i'\n",
    "    \n",
    "    def __sub__(self,other):\n",
    "         return f'{self.real-other.real}+{self.imag-other.imag}i'\n",
    "    \n",
    "    def __mul__(self,other):\n",
    "        real_part = self.real*other.real - self.imag*other.imag\n",
    "        imag_part = self.real*other.imag + self.imag*other.real\n",
    "        return f'{real_part}+{imag_part}i'\n",
    "    \n",
    "    \n",
    "c1 = ComplexNumber(1,2)\n",
    "c2 = ComplexNumber(5,7)\n",
    "print(c1+c2)\n",
    "print(c1-c2)\n",
    "print(c1*c2)\n"
   ]
  }
 ],
 "metadata": {
  "kernelspec": {
   "display_name": "base",
   "language": "python",
   "name": "python3"
  },
  "language_info": {
   "codemirror_mode": {
    "name": "ipython",
    "version": 3
   },
   "file_extension": ".py",
   "mimetype": "text/x-python",
   "name": "python",
   "nbconvert_exporter": "python",
   "pygments_lexer": "ipython3",
   "version": "3.12.7"
  }
 },
 "nbformat": 4,
 "nbformat_minor": 5
}
