{
 "cells": [
  {
   "cell_type": "markdown",
   "id": "95decac5",
   "metadata": {},
   "source": [
    "#### Magic Methods\n",
    "\n",
    "Magic Methods in Python also known as dunder (double underscore) methods are special methods that starts and ends with double underscores.\n",
    "\n",
    "These methods enables you to define the behaviour of objects for built-in operations such as arithmetic, comaprisons and more "
   ]
  },
  {
   "cell_type": "markdown",
   "id": "3f5206bb",
   "metadata": {},
   "source": [
    "#### Magic Methods\n",
    "\n",
    "Magic Methods are the pre-defined methods in Python that you can over-ride to change the behaviour of your objects.\n",
    "\n",
    "Some magic methods include:\n",
    "\n",
    "            __init__    initialises a new instance of class\n",
    "            __str__     returns a string representation of an object\n",
    "            __repr__    returns an official string representation of an object\n",
    "            __len__     returns the length of an object\n",
    "            __getitem__ gets an item from a container\n",
    "            __setitem__ sets an item from a container"
   ]
  },
  {
   "cell_type": "code",
   "execution_count": 16,
   "id": "a519ad9c",
   "metadata": {},
   "outputs": [
    {
     "data": {
      "text/plain": [
       "['__class__',\n",
       " '__delattr__',\n",
       " '__dict__',\n",
       " '__dir__',\n",
       " '__doc__',\n",
       " '__eq__',\n",
       " '__format__',\n",
       " '__ge__',\n",
       " '__getattribute__',\n",
       " '__getstate__',\n",
       " '__gt__',\n",
       " '__hash__',\n",
       " '__init__',\n",
       " '__init_subclass__',\n",
       " '__le__',\n",
       " '__lt__',\n",
       " '__module__',\n",
       " '__ne__',\n",
       " '__new__',\n",
       " '__reduce__',\n",
       " '__reduce_ex__',\n",
       " '__repr__',\n",
       " '__setattr__',\n",
       " '__sizeof__',\n",
       " '__str__',\n",
       " '__subclasshook__',\n",
       " '__weakref__']"
      ]
     },
     "execution_count": 16,
     "metadata": {},
     "output_type": "execute_result"
    }
   ],
   "source": [
    "## Base Class\n",
    "class Person:\n",
    "    pass\n",
    "\n",
    "## Creating an object\n",
    "person = Person()\n",
    "## directory of an object\n",
    "dir(person)\n",
    "## person.__dir__()\n"
   ]
  },
  {
   "cell_type": "code",
   "execution_count": 19,
   "id": "2cc8a4a5",
   "metadata": {},
   "outputs": [
    {
     "data": {
      "text/plain": [
       "'<__main__.Person object at 0x107eaed20>'"
      ]
     },
     "execution_count": 19,
     "metadata": {},
     "output_type": "execute_result"
    }
   ],
   "source": [
    "## Example\n",
    "class Person():\n",
    "    def __init__(self, name, age):\n",
    "        self.name = name\n",
    "        self.age = age\n",
    "\n",
    "person = Person('Sai',23)\n",
    "## Default string representation of the object \"person\"\n",
    "str(person)"
   ]
  },
  {
   "cell_type": "code",
   "execution_count": 26,
   "id": "befd9679",
   "metadata": {},
   "outputs": [
    {
     "name": "stdout",
     "output_type": "stream",
     "text": [
      "Sai is 23 years old\n",
      "<__main__.Person object at 0x107eff0e0>\n"
     ]
    }
   ],
   "source": [
    "class Person():\n",
    "    def __init__(self, name, age):\n",
    "        self.name = name\n",
    "        self.age = age\n",
    "    \n",
    "    def __str__(self):\n",
    "        return f'{self.name} is {self.age} years old'\n",
    "\n",
    "person = Person('Sai',23)\n",
    "## Over-ridden string representation of the object \"person\"\n",
    "print(str(person))\n",
    "## __repr__ returns an official string representation of an object\n",
    "print(repr(person))"
   ]
  },
  {
   "cell_type": "code",
   "execution_count": 28,
   "id": "a8169fbf",
   "metadata": {},
   "outputs": [
    {
     "name": "stdout",
     "output_type": "stream",
     "text": [
      "Sai is 23 years old\n",
      "Persoon(name : Sai, age : 23)\n"
     ]
    }
   ],
   "source": [
    "class Person():\n",
    "    def __init__(self, name, age):\n",
    "        self.name = name\n",
    "        self.age = age\n",
    "    \n",
    "    def __str__(self):\n",
    "        return f'{self.name} is {self.age} years old'\n",
    "    \n",
    "    def __repr__(self):\n",
    "        return f'Persoon(name : {self.name}, age : {self.age})'\n",
    "\n",
    "person = Person('Sai',23)\n",
    "## Over-ridden string representation of the object \"person\"\n",
    "print(str(person))\n",
    "## __repr__ method was over-ridden\n",
    "print(repr(person))"
   ]
  }
 ],
 "metadata": {
  "kernelspec": {
   "display_name": "base",
   "language": "python",
   "name": "python3"
  },
  "language_info": {
   "codemirror_mode": {
    "name": "ipython",
    "version": 3
   },
   "file_extension": ".py",
   "mimetype": "text/x-python",
   "name": "python",
   "nbconvert_exporter": "python",
   "pygments_lexer": "ipython3",
   "version": "3.12.7"
  }
 },
 "nbformat": 4,
 "nbformat_minor": 5
}
