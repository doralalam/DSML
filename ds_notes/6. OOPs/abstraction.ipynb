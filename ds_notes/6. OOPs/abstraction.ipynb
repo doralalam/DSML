{
 "cells": [
  {
   "cell_type": "markdown",
   "id": "234e54fc",
   "metadata": {},
   "source": [
    "#### Abstraction\n",
    "\n",
    "Abstraction is the concept of hinding the complex implementation details and showing only the necessary features of an object\n",
    "\n",
    "This helps in reducing the program complexity and effort"
   ]
  },
  {
   "cell_type": "code",
   "execution_count": null,
   "id": "e0c0c46d",
   "metadata": {},
   "outputs": [
    {
     "name": "stdout",
     "output_type": "stream",
     "text": [
      "The vehicle is used for driving\n",
      "The car is moving\n"
     ]
    }
   ],
   "source": [
    "from abc import ABC, abstractmethod\n",
    "\n",
    "## Diff btw Base Class and Abstract Class is that Abstract class is inherited with Abstract Base Class\n",
    "\n",
    "## Abstract Class\n",
    "class Vehicle(ABC):\n",
    "    def drive(self):\n",
    "        print(\"The vehicle is used for driving\")\n",
    "\n",
    "    ## This abstractmethod block indicates the necessity features and hides the complex implementation\n",
    "    @abstractmethod\n",
    "    def start_engine(self):\n",
    "        pass\n",
    "\n",
    "## Derived Class\n",
    "class Car(Vehicle):\n",
    "    ## Derived class won't work without the \"start-engine\" method which is an abstract method mentioned in the abstract class\n",
    "    def start_engine(self):\n",
    "        print(\"The car is moving\")\n",
    "\n",
    "def operate_vehicle(vehicle):\n",
    "    vehicle.drive()\n",
    "    vehicle.start_engine()\n",
    " \n",
    "\n",
    "car= Car()\n",
    "operate_vehicle(car)"
   ]
  }
 ],
 "metadata": {
  "kernelspec": {
   "display_name": "base",
   "language": "python",
   "name": "python3"
  },
  "language_info": {
   "codemirror_mode": {
    "name": "ipython",
    "version": 3
   },
   "file_extension": ".py",
   "mimetype": "text/x-python",
   "name": "python",
   "nbconvert_exporter": "python",
   "pygments_lexer": "ipython3",
   "version": "3.12.7"
  }
 },
 "nbformat": 4,
 "nbformat_minor": 5
}
