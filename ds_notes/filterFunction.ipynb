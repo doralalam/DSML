{
 "cells": [
  {
   "cell_type": "markdown",
   "id": "0cf131f5",
   "metadata": {},
   "source": [
    "## filter()\n",
    "\n",
    "    1. filter() is used to filter out the items from a list based on a condition"
   ]
  },
  {
   "cell_type": "code",
   "execution_count": null,
   "id": "cfbf63e7",
   "metadata": {},
   "outputs": [],
   "source": [
    "# Syntax\n",
    "# filter(function_with_condition, iterable_or_list)"
   ]
  },
  {
   "cell_type": "code",
   "execution_count": 6,
   "id": "dffb626d",
   "metadata": {},
   "outputs": [
    {
     "name": "stdout",
     "output_type": "stream",
     "text": [
      "True\n",
      "None\n"
     ]
    }
   ],
   "source": [
    "# Example\n",
    "def even(num):\n",
    "    \"\"\"This function validates the num is even or not\"\"\"\n",
    "    if num%2==0:\n",
    "        return True\n",
    "    \n",
    "print(even(10))\n",
    "print(even(9))"
   ]
  },
  {
   "cell_type": "code",
   "execution_count": 4,
   "id": "22366b5e",
   "metadata": {},
   "outputs": [
    {
     "name": "stdout",
     "output_type": "stream",
     "text": [
      "Even numbers in the list are [2, 4, 6, 8, 10]\n"
     ]
    }
   ],
   "source": [
    "# To handle the same operation for a list\n",
    "def even_list(numbers):\n",
    "    \"\"\"This function returns the list of even numbers from the input list\"\"\"\n",
    "    new_list = []\n",
    "    for num in numbers:\n",
    "        if num%2==0:\n",
    "            new_list.append(num)\n",
    "    return new_list\n",
    "\n",
    "int_list = [1,2,3,4,5,6,7,8,9,10]\n",
    "print(f\"Even numbers in the list are {even_list(int_list)}\")"
   ]
  },
  {
   "cell_type": "code",
   "execution_count": 11,
   "id": "168d3b54",
   "metadata": {},
   "outputs": [
    {
     "name": "stdout",
     "output_type": "stream",
     "text": [
      "Using the filter [10, 12, 14, 16, 18, 20]\n"
     ]
    }
   ],
   "source": [
    "# Previous example can be broken down into simple using filter()\n",
    "new_list = [10,12,13,14,15,16,17,18,19,20]\n",
    "print(f\"Using the filter {list(filter(even, new_list))}\")\n",
    "# returns all the values whose conditions are true at even(num) function"
   ]
  },
  {
   "cell_type": "code",
   "execution_count": 15,
   "id": "1f03288e",
   "metadata": {},
   "outputs": [
    {
     "name": "stdout",
     "output_type": "stream",
     "text": [
      "Numbers greater than five are [6, 7, 8, 9, 10]\n",
      "Numbers greater than five using map() are [False, False, False, False, False, True, True, True, True, True]\n"
     ]
    }
   ],
   "source": [
    "# Filter with a lambda function (Numbers greater than five)\n",
    "numbers = [1,2,3,4,5,6,7,8,9,10]\n",
    "greater_than_five = list(filter(lambda x: x>5, numbers))\n",
    "print(f\"Numbers greater than five are {greater_than_five}\")\n",
    "greater_than_five_using_map = list(map(lambda x: x>5, numbers))\n",
    "print(f\"Numbers greater than five using map() are {greater_than_five_using_map}\")\n"
   ]
  },
  {
   "cell_type": "markdown",
   "id": "7829f39b",
   "metadata": {},
   "source": [
    "#### Difference between map() and filter() and lambda\n",
    "\n",
    "    1. map() applicable on all the iterable items and returns all the values\n",
    "\n",
    "    2. filter() applicable on all the iterable items and returns only the satisfied values as above\n",
    "\n",
    "    3. lambda is an anonymous function helpful in both map() and filter()"
   ]
  },
  {
   "cell_type": "code",
   "execution_count": null,
   "id": "94cd588b",
   "metadata": {},
   "outputs": [
    {
     "name": "stdout",
     "output_type": "stream",
     "text": [
      "[6, 8, 10]\n"
     ]
    }
   ],
   "source": [
    "## filter() with lambda function and multiple conditions\n",
    "numbers = [1,2,3,4,5,6,7,8,9,10]\n",
    "even_and_greater_than_five = list(filter(lambda x: x>5 and x%2==0, numbers))\n",
    "## even_and_greater_than_five = list(filter(lambda x: x%2==0, list(filter(lambda x: x>5, numbers))))\n",
    "print(even_and_greater_than_five)\n"
   ]
  },
  {
   "cell_type": "code",
   "execution_count": 21,
   "id": "2b0f8946",
   "metadata": {},
   "outputs": [
    {
     "name": "stdout",
     "output_type": "stream",
     "text": [
      "[{'name': 'Ram', 'age': 30}, {'name': 'Hanuma', 'age': 125}]\n"
     ]
    }
   ],
   "source": [
    "## To apply filter operation on dictionary\n",
    "## filter() to check the age is greater than 25 in a dictionary\n",
    "people = [\n",
    "    {'name': 'Ram', 'age':30},\n",
    "    {'name': 'Laxman', 'age':25},\n",
    "    {'name': 'Hanuma', 'age':125},\n",
    "    {'name': 'Seetha', 'age':23}\n",
    "]\n",
    "\n",
    "age_greater_than_25 = list(filter(lambda x: x['age']>25, people))\n",
    "print(age_greater_than_25)"
   ]
  },
  {
   "cell_type": "markdown",
   "id": "603f522b",
   "metadata": {},
   "source": [
    "#### Conclusion\n",
    "\n",
    "    1. filter() is used to filter the items from an iterable based on the condition\n",
    "\n",
    "    2. filter() is useful while data cleaning, filtering objects and removing unwanted elements from a list"
   ]
  }
 ],
 "metadata": {
  "kernelspec": {
   "display_name": "base",
   "language": "python",
   "name": "python3"
  },
  "language_info": {
   "codemirror_mode": {
    "name": "ipython",
    "version": 3
   },
   "file_extension": ".py",
   "mimetype": "text/x-python",
   "name": "python",
   "nbconvert_exporter": "python",
   "pygments_lexer": "ipython3",
   "version": "3.12.7"
  }
 },
 "nbformat": 4,
 "nbformat_minor": 5
}
