{
 "cells": [
  {
   "cell_type": "markdown",
   "id": "35db30c0",
   "metadata": {},
   "source": [
    "# Lists\n",
    "\n",
    "1. List is an ordered collection of items and is mutable (editable)\n",
    "\n",
    "2. List can have different data types"
   ]
  },
  {
   "cell_type": "code",
   "execution_count": 25,
   "id": "4b7409f9",
   "metadata": {},
   "outputs": [
    {
     "name": "stdout",
     "output_type": "stream",
     "text": [
      "[1, 'Apple', 'Hello World', 2.0, 'Apple']\n"
     ]
    }
   ],
   "source": [
    "list = [1, 'Apple', 'Hello World', 2.0, 'Apple']\n",
    "print(list)"
   ]
  },
  {
   "cell_type": "markdown",
   "id": "e8ad3ea1",
   "metadata": {},
   "source": [
    "### List Methods"
   ]
  },
  {
   "cell_type": "code",
   "execution_count": 26,
   "id": "672982b0",
   "metadata": {},
   "outputs": [
    {
     "name": "stdout",
     "output_type": "stream",
     "text": [
      "[1, 'Apple', 'Hello World', 2.0, 'Apple', 'Appended Element Here']\n"
     ]
    }
   ],
   "source": [
    "list.append('Appended Element Here')\n",
    "print(list)"
   ]
  },
  {
   "cell_type": "code",
   "execution_count": 27,
   "id": "37b4f3e9",
   "metadata": {},
   "outputs": [
    {
     "name": "stdout",
     "output_type": "stream",
     "text": [
      "[1, 'Inserted Element', 'Apple', 'Hello World', 2.0, 'Apple', 'Appended Element Here']\n"
     ]
    }
   ],
   "source": [
    "# Insert an element at index 1\n",
    "list.insert(1,'Inserted Element')\n",
    "print(list)"
   ]
  },
  {
   "cell_type": "code",
   "execution_count": 28,
   "id": "9fdbe055",
   "metadata": {},
   "outputs": [
    {
     "name": "stdout",
     "output_type": "stream",
     "text": [
      "[1, 'Inserted Element', 'Hello World', 2.0, 'Apple', 'Appended Element Here']\n"
     ]
    }
   ],
   "source": [
    "# to remove the element at first occurance\n",
    "list.remove('Apple')\n",
    "print(list)"
   ]
  },
  {
   "cell_type": "code",
   "execution_count": 29,
   "id": "b645869e",
   "metadata": {},
   "outputs": [
    {
     "data": {
      "text/plain": [
       "'Appended Element Here'"
      ]
     },
     "execution_count": 29,
     "metadata": {},
     "output_type": "execute_result"
    }
   ],
   "source": [
    "# to remove the last element within the list and display it in the result\n",
    "list.pop()"
   ]
  },
  {
   "cell_type": "code",
   "execution_count": 30,
   "id": "171bc4fe",
   "metadata": {},
   "outputs": [
    {
     "data": {
      "text/plain": [
       "1"
      ]
     },
     "execution_count": 30,
     "metadata": {},
     "output_type": "execute_result"
    }
   ],
   "source": [
    "# to display the index of a particular element within the list\n",
    "fruits = ['Apple', 'Banana', 'Mango', 'Orange', 'PineApple']\n",
    "fruits.index('Banana')"
   ]
  },
  {
   "cell_type": "code",
   "execution_count": 31,
   "id": "4b8e8c2a",
   "metadata": {},
   "outputs": [
    {
     "name": "stdout",
     "output_type": "stream",
     "text": [
      "['Apple', 'Mango', 'Banana', 'Mango', 'Orange', 'PineApple']\n"
     ]
    }
   ],
   "source": [
    "fruits.insert(1, 'Mango')\n",
    "print(fruits)"
   ]
  },
  {
   "cell_type": "code",
   "execution_count": 32,
   "id": "26a9bfed",
   "metadata": {},
   "outputs": [],
   "source": [
    "# to sort the elements within the list\n",
    "fruits.sort()"
   ]
  },
  {
   "cell_type": "code",
   "execution_count": 33,
   "id": "ed72570b",
   "metadata": {},
   "outputs": [
    {
     "data": {
      "text/plain": [
       "['Apple', 'Banana', 'Mango', 'Mango', 'Orange', 'PineApple']"
      ]
     },
     "execution_count": 33,
     "metadata": {},
     "output_type": "execute_result"
    }
   ],
   "source": [
    "# to view the output of sorting\n",
    "fruits\n"
   ]
  },
  {
   "cell_type": "code",
   "execution_count": 34,
   "id": "ad9843a2",
   "metadata": {},
   "outputs": [
    {
     "data": {
      "text/plain": [
       "['PineApple', 'Orange', 'Mango', 'Mango', 'Banana', 'Apple']"
      ]
     },
     "execution_count": 34,
     "metadata": {},
     "output_type": "execute_result"
    }
   ],
   "source": [
    "# to sort the list in reverse\n",
    "fruits.reverse()\n",
    "fruits"
   ]
  },
  {
   "cell_type": "code",
   "execution_count": 35,
   "id": "69573e6d",
   "metadata": {},
   "outputs": [
    {
     "data": {
      "text/plain": [
       "[]"
      ]
     },
     "execution_count": 35,
     "metadata": {},
     "output_type": "execute_result"
    }
   ],
   "source": [
    "# to clear the list\n",
    "fruits.clear()\n",
    "fruits"
   ]
  },
  {
   "cell_type": "code",
   "execution_count": null,
   "id": "199d691c",
   "metadata": {},
   "outputs": [
    {
     "name": "stdout",
     "output_type": "stream",
     "text": [
      "[3, 4, 5]\n",
      "[1, 2, 3, 4, 5]\n",
      "[6, 7, 8, 9, 10]\n",
      "[1, 2, 3, 4, 5, 6, 7, 8, 9, 10]\n",
      "[1, 3, 5, 7, 9]\n",
      "[10, 9, 8, 7, 6, 5, 4, 3, 2, 1]\n"
     ]
    }
   ],
   "source": [
    "# List slicing\n",
    "\n",
    "numbers = [1,2,3,4,5,6,7,8,9,10]\n",
    "print(numbers[2:5])\n",
    "print(numbers[:5])\n",
    "print(numbers[5:])\n",
    "print(numbers[:])\n",
    "print(numbers[::2])\n",
    "print(numbers[::-1])"
   ]
  },
  {
   "cell_type": "code",
   "execution_count": 40,
   "id": "f1a9460f",
   "metadata": {},
   "outputs": [
    {
     "name": "stdout",
     "output_type": "stream",
     "text": [
      "1\n",
      "2\n",
      "3\n",
      "4\n",
      "5\n",
      "6\n",
      "7\n",
      "8\n",
      "9\n",
      "10\n"
     ]
    }
   ],
   "source": [
    "# iterating through the list\n",
    "\n",
    "for number in numbers:\n",
    "    print(number)"
   ]
  },
  {
   "cell_type": "code",
   "execution_count": 46,
   "id": "069cd4c6",
   "metadata": {},
   "outputs": [
    {
     "name": "stdout",
     "output_type": "stream",
     "text": [
      "0 1\n",
      "1 2\n",
      "2 3\n",
      "3 4\n",
      "4 5\n",
      "5 6\n",
      "6 7\n",
      "7 8\n",
      "8 9\n",
      "9 10\n"
     ]
    }
   ],
   "source": [
    "# iterating through list along with index\n",
    "# note : index value from the enumberate function is returned to the first variable\n",
    "\n",
    "for index, number in enumerate(numbers):\n",
    "    print(index,number)"
   ]
  },
  {
   "cell_type": "markdown",
   "id": "a2eab2f6",
   "metadata": {},
   "source": [
    "#### List Comprehension\n",
    "\n",
    "1. Basic Syntax : [expression for item iterable]\n",
    "\n",
    "2. with condition : [expression for item iterable conditional logic]\n",
    "\n",
    "3. Nested List comprehension : [[expr1, expr2] for item1 for item2]"
   ]
  },
  {
   "cell_type": "code",
   "execution_count": 47,
   "id": "669884aa",
   "metadata": {},
   "outputs": [
    {
     "name": "stdout",
     "output_type": "stream",
     "text": [
      "[0, 1, 4, 9, 16, 25, 36, 49, 64, 81]\n"
     ]
    }
   ],
   "source": [
    "# to find squares of numbers in the range of 10\n",
    "\n",
    "square = [x**2 for x in range(10)]\n",
    "print(square)"
   ]
  },
  {
   "cell_type": "code",
   "execution_count": 48,
   "id": "24646ad8",
   "metadata": {},
   "outputs": [
    {
     "name": "stdout",
     "output_type": "stream",
     "text": [
      "[0, 4, 16, 36, 64]\n"
     ]
    }
   ],
   "source": [
    "# to find sqaures of even numbers in the range of 10\n",
    "\n",
    "even_squares = [x**2 for x in range(10) if x%2==0]\n",
    "print(even_squares)"
   ]
  },
  {
   "cell_type": "code",
   "execution_count": 49,
   "id": "ca8f35d2",
   "metadata": {},
   "outputs": [
    {
     "name": "stdout",
     "output_type": "stream",
     "text": [
      "[(1, 'a'), (1, 'b'), (1, 'c'), (1, 'd'), (2, 'a'), (2, 'b'), (2, 'c'), (2, 'd'), (3, 'a'), (3, 'b'), (3, 'c'), (3, 'd'), (4, 'a'), (4, 'b'), (4, 'c'), (4, 'd')]\n"
     ]
    }
   ],
   "source": [
    "# nested list comprehension\n",
    "\n",
    "lst1 = [1,2,3,4]\n",
    "lst2 = ['a','b','c','d']\n",
    "pairs = [(i,j) for i in lst1 for j in lst2]\n",
    "print(pairs)"
   ]
  },
  {
   "cell_type": "code",
   "execution_count": 52,
   "id": "32fdae3d",
   "metadata": {},
   "outputs": [
    {
     "name": "stdout",
     "output_type": "stream",
     "text": [
      "0 (1, 'a')\n",
      "1 (1, 'b')\n",
      "2 (1, 'c')\n",
      "3 (1, 'd')\n",
      "4 (2, 'a')\n",
      "5 (2, 'b')\n",
      "6 (2, 'c')\n",
      "7 (2, 'd')\n",
      "8 (3, 'a')\n",
      "9 (3, 'b')\n",
      "10 (3, 'c')\n",
      "11 (3, 'd')\n",
      "12 (4, 'a')\n",
      "13 (4, 'b')\n",
      "14 (4, 'c')\n",
      "15 (4, 'd')\n"
     ]
    }
   ],
   "source": [
    "# fun check\n",
    "\n",
    "for index, pair in enumerate(pairs):\n",
    "    print(index, pair)"
   ]
  },
  {
   "cell_type": "code",
   "execution_count": 55,
   "id": "a33c8441",
   "metadata": {},
   "outputs": [
    {
     "name": "stdout",
     "output_type": "stream",
     "text": [
      "[5, 5, 7]\n"
     ]
    }
   ],
   "source": [
    "# list comprehesnion with function calls\n",
    "\n",
    "words = [\"hello\", \"world\", \"welcome\"]\n",
    "lengths = [len(word) for word in words]\n",
    "print(lengths)"
   ]
  }
 ],
 "metadata": {
  "kernelspec": {
   "display_name": "base",
   "language": "python",
   "name": "python3"
  },
  "language_info": {
   "codemirror_mode": {
    "name": "ipython",
    "version": 3
   },
   "file_extension": ".py",
   "mimetype": "text/x-python",
   "name": "python",
   "nbconvert_exporter": "python",
   "pygments_lexer": "ipython3",
   "version": "3.12.7"
  }
 },
 "nbformat": 4,
 "nbformat_minor": 5
}
