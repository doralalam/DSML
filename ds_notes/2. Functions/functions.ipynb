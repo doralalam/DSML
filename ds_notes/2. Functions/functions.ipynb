{
 "cells": [
  {
   "cell_type": "markdown",
   "id": "84e4abd2",
   "metadata": {},
   "source": [
    "# Functions:\n",
    "\n",
    "A function is a block of code that performs a specific task. Functions helps in organizing code, reusing code and improve readability\n"
   ]
  },
  {
   "cell_type": "code",
   "execution_count": null,
   "id": "d9b316c0",
   "metadata": {},
   "outputs": [
    {
     "name": "stdout",
     "output_type": "stream",
     "text": [
      "the num is even\n"
     ]
    }
   ],
   "source": [
    "## Syntax\n",
    "def func_name(parameter):\n",
    "    \"\"\"Docstring\"\"\"\n",
    "    # Body\n",
    "    return expression"
   ]
  },
  {
   "cell_type": "code",
   "execution_count": null,
   "id": "05c4e064",
   "metadata": {},
   "outputs": [
    {
     "name": "stdout",
     "output_type": "stream",
     "text": [
      "the num is even\n"
     ]
    }
   ],
   "source": [
    "## Example\n",
    "def even_or_odd(num):\n",
    "    \"\"\" This function gives even or odd\"\"\"\n",
    "    if num%2==0:\n",
    "        print(\"the num is even\")\n",
    "    else:\n",
    "        print(\"the num is odd\")\n",
    "        \n",
    "# Calling the function\n",
    "even_or_odd(10)"
   ]
  },
  {
   "cell_type": "code",
   "execution_count": 17,
   "id": "7eb7fa00",
   "metadata": {},
   "outputs": [
    {
     "name": "stdout",
     "output_type": "stream",
     "text": [
      "15\n"
     ]
    }
   ],
   "source": [
    "# Function with multiple parameters\n",
    "def result(a,b):\n",
    "    \"\"\"Performs addition\"\"\"\n",
    "    return a+b\n",
    "\n",
    "# Calling result function\n",
    "answer = result(5,10)\n",
    "print(answer)"
   ]
  },
  {
   "cell_type": "code",
   "execution_count": 19,
   "id": "6faa62b2",
   "metadata": {},
   "outputs": [
    {
     "name": "stdout",
     "output_type": "stream",
     "text": [
      "Hello Dora! Welcome to the new lecture!\n",
      "Hello Guest! Welcome to the new lecture!\n"
     ]
    }
   ],
   "source": [
    "# Function with default parameter\n",
    "def greeting(name=\"Guest\"):\n",
    "    print(f\"Hello {name}! Welcome to the new lecture!\")\n",
    "\n",
    "# Calling greeting function\n",
    "greeting('Dora')\n",
    "\n",
    "# If we don't pass the parameter, then the default will be cosnidered\n",
    "greeting()"
   ]
  },
  {
   "cell_type": "markdown",
   "id": "2f0a1152",
   "metadata": {},
   "source": [
    "## Variable Length Arguments:\n",
    "\n",
    "1.  Positional Arguments\n",
    "\n",
    "2.  Keyword Arguments"
   ]
  },
  {
   "cell_type": "markdown",
   "id": "78c182d3",
   "metadata": {},
   "source": [
    "### Positional Arguments\n"
   ]
  },
  {
   "cell_type": "code",
   "execution_count": null,
   "id": "b8065100",
   "metadata": {},
   "outputs": [
    {
     "name": "stdout",
     "output_type": "stream",
     "text": [
      "(1, 2, 3, 4, 5, 2, 3, 2)\n",
      "(1, 2, 3, (4, 2, 4), (3, 4))\n",
      "('Hello World',)\n"
     ]
    }
   ],
   "source": [
    "# industry standard syntax\n",
    "# def numbers(*args): \n",
    "def numbers(*num):\n",
    "    print(num)\n",
    "\n",
    "numbers(1,2,3,4,5,2,3,2)\n",
    "numbers(1,2,3,(4,2,4),(3,4))\n",
    "numbers(\"Hello World\")"
   ]
  },
  {
   "cell_type": "markdown",
   "id": "3cad1283",
   "metadata": {},
   "source": [
    "### Keyword Arguments"
   ]
  },
  {
   "cell_type": "code",
   "execution_count": 27,
   "id": "e5107364",
   "metadata": {},
   "outputs": [
    {
     "name": "stdout",
     "output_type": "stream",
     "text": [
      "name:Dora\n",
      "age:25\n",
      "name:Sai\n",
      "age:23\n",
      "place:Chennai\n"
     ]
    }
   ],
   "source": [
    "# industry standard syntax\n",
    "# def details(**kwargs):\n",
    "def details(**kwargs):\n",
    "    for key, val in kwargs.items():\n",
    "        print(f\"{key}:{val}\")\n",
    "\n",
    "\n",
    "details(name = \"Dora\", age = 25)\n",
    "details(name = \"Sai\", age = 23, place = \"Chennai\")"
   ]
  },
  {
   "cell_type": "code",
   "execution_count": 3,
   "id": "3456fd80",
   "metadata": {},
   "outputs": [
    {
     "name": "stdout",
     "output_type": "stream",
     "text": [
      "Positional Element: 1\n",
      "Positional Element: 2\n",
      "Positional Element: 3\n",
      "Positional Element: 2\n",
      "Positional Element: Hello\n",
      "Positional Element: World\n",
      "Keyword Arg      name : Dora\n",
      "Keyword Arg      age : 25\n",
      "Keyword Arg      place : HYD\n"
     ]
    }
   ],
   "source": [
    "# Another example of both *args and **kwargs\n",
    "def details(*args, **kwargs):\n",
    "    for num in args:\n",
    "        print(f\"Positional Element: {num}\")\n",
    "    for key, val in kwargs.items():\n",
    "        print(f\"Keyword Arg      {key} : {val}\")\n",
    "\n",
    "details(1,2,3,2,\"Hello\", \"World\", name = \"Dora\", age = 25, place = \"HYD\")"
   ]
  },
  {
   "cell_type": "markdown",
   "id": "d528685f",
   "metadata": {},
   "source": [
    "## Return "
   ]
  },
  {
   "cell_type": "code",
   "execution_count": null,
   "id": "e63214f8",
   "metadata": {},
   "outputs": [
    {
     "data": {
      "text/plain": [
       "15"
      ]
     },
     "execution_count": 31,
     "metadata": {},
     "output_type": "execute_result"
    }
   ],
   "source": [
    "# Return Parameters\n",
    "def addition(*args):\n",
    "    return sum(args)\n",
    "\n",
    "addition(1,2,3,4,5)"
   ]
  },
  {
   "cell_type": "code",
   "execution_count": 6,
   "id": "eed532ea",
   "metadata": {},
   "outputs": [
    {
     "name": "stdout",
     "output_type": "stream",
     "text": [
      "(50, 10)\n",
      "<class 'function'>\n",
      "<class 'tuple'>\n"
     ]
    }
   ],
   "source": [
    "## Return Multiple Parameters\n",
    "def mul(a,b):\n",
    "    return a*b, b\n",
    "\n",
    "print(mul(5,10))\n",
    "print(type(mul))\n",
    "print(type(mul(5,10)))\n"
   ]
  }
 ],
 "metadata": {
  "kernelspec": {
   "display_name": "base",
   "language": "python",
   "name": "python3"
  },
  "language_info": {
   "codemirror_mode": {
    "name": "ipython",
    "version": 3
   },
   "file_extension": ".py",
   "mimetype": "text/x-python",
   "name": "python",
   "nbconvert_exporter": "python",
   "pygments_lexer": "ipython3",
   "version": "3.12.7"
  }
 },
 "nbformat": 4,
 "nbformat_minor": 5
}
