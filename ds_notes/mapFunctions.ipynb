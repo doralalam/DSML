{
 "cells": [
  {
   "cell_type": "markdown",
   "id": "93e904a6",
   "metadata": {},
   "source": [
    "## The map() function\n",
    "\n",
    "    1. The map() function applies a given function to all items in an input list and returns a map object\n",
    "\n",
    "    2. map() function specifically used in transforming the data in list comprehensively"
   ]
  },
  {
   "cell_type": "code",
   "execution_count": 4,
   "id": "78271f62",
   "metadata": {},
   "outputs": [],
   "source": [
    "# Syntax of map()\n",
    "    # map(function, iterable)"
   ]
  },
  {
   "cell_type": "code",
   "execution_count": 2,
   "id": "e5539383",
   "metadata": {},
   "outputs": [
    {
     "name": "stdout",
     "output_type": "stream",
     "text": [
      "81\n"
     ]
    }
   ],
   "source": [
    "# Example\n",
    "def squares(num):\n",
    "    return num*num\n",
    "\n",
    "print(squares(9))"
   ]
  },
  {
   "cell_type": "code",
   "execution_count": 13,
   "id": "73eae2c0",
   "metadata": {},
   "outputs": [
    {
     "name": "stdout",
     "output_type": "stream",
     "text": [
      "<map object at 0x1061197b0>\n",
      "Observation: For every run, location of the map object changes\n",
      "Squares of the above list is [1, 9, 4, 25, 49]\n"
     ]
    }
   ],
   "source": [
    "# Using map()\n",
    "numbers = [1,3,2,5,7]\n",
    "\n",
    "print(map(squares, numbers))\n",
    "print(f\"Observation: For every run, location of the map object changes\")\n",
    "print(f\"Squares of the above list is {list(map(squares, numbers))}\")\n"
   ]
  },
  {
   "cell_type": "code",
   "execution_count": 15,
   "id": "3987a7af",
   "metadata": {},
   "outputs": [
    {
     "name": "stdout",
     "output_type": "stream",
     "text": [
      "Squares using lambda function : [1, 9, 4, 25, 49]\n"
     ]
    }
   ],
   "source": [
    "# Previous example using lambda function and map()\n",
    "print(f\"Squares using lambda function : {list(map(lambda x: x**2, numbers))}\")"
   ]
  },
  {
   "cell_type": "code",
   "execution_count": 22,
   "id": "d0aef7fd",
   "metadata": {},
   "outputs": [
    {
     "name": "stdout",
     "output_type": "stream",
     "text": [
      "Case when the vectors are of same length [11, 8, 8, 10]\n",
      "Case when the vectors are of different length [3, 7]\n"
     ]
    }
   ],
   "source": [
    "# map() using multiple iterables\n",
    "number1 = [2,4,5,8]\n",
    "number2 = [9,4,3,2]\n",
    "number3 = [1,3]\n",
    "\n",
    "added_numbers = list(map(lambda x,y:x+y, number1, number2))\n",
    "print(f\"Case when the vectors are of same length {added_numbers}\")\n",
    "added_numbers = list(map(lambda x,y:x+y, number1, number3))\n",
    "print(f\"Case when the vectors are of different length {added_numbers}\")"
   ]
  },
  {
   "cell_type": "code",
   "execution_count": 26,
   "id": "fcb30611",
   "metadata": {},
   "outputs": [
    {
     "name": "stdout",
     "output_type": "stream",
     "text": [
      "String converted to integers : [1, 2, 5, 7, 3]\n"
     ]
    }
   ],
   "source": [
    "# To convert string to integer using map()\n",
    "str_int = ['1','2','5','7',3]\n",
    "converted_to_int = list(map(int, str_int))\n",
    "print(f\"String converted to integers : {converted_to_int}\")"
   ]
  },
  {
   "cell_type": "code",
   "execution_count": 27,
   "id": "f8494538",
   "metadata": {},
   "outputs": [
    {
     "name": "stdout",
     "output_type": "stream",
     "text": [
      "Upper Case Words : ['APPLE', 'BANANA', 'MANGO']\n"
     ]
    }
   ],
   "source": [
    "# Switching the case of a string using map()\n",
    "words = ['apple', 'banana', 'mango']\n",
    "upper_words = list(map(str.upper, words))\n",
    "print(f\"Upper Case Words : {upper_words}\")"
   ]
  },
  {
   "cell_type": "code",
   "execution_count": 29,
   "id": "d89ca179",
   "metadata": {},
   "outputs": [
    {
     "name": "stdout",
     "output_type": "stream",
     "text": [
      "Names within the dictionary are ['Ram', 'Laxman']\n"
     ]
    }
   ],
   "source": [
    "# Another example\n",
    "def get_name(people):\n",
    "    return people[\"name\"]\n",
    "\n",
    "people = [\n",
    "    {'name':'Ram', 'age':30},\n",
    "    {'name': 'Laxman', 'age':25}\n",
    "]\n",
    "\n",
    "print(f\"Names within the dictionary are {list(map(get_name, people))}\")"
   ]
  },
  {
   "cell_type": "markdown",
   "id": "831dd9ff",
   "metadata": {},
   "source": [
    "#### Conclusion\n",
    "    \n",
    "    1. Map() is a powerful tool used for applying transformations\n",
    "\n",
    "    2. Used with regular functions, lambda functions and multiple iterables items for data processing\n",
    "\n",
    "    3. Using map() we can write more efficient and readable code "
   ]
  }
 ],
 "metadata": {
  "kernelspec": {
   "display_name": "base",
   "language": "python",
   "name": "python3"
  },
  "language_info": {
   "codemirror_mode": {
    "name": "ipython",
    "version": 3
   },
   "file_extension": ".py",
   "mimetype": "text/x-python",
   "name": "python",
   "nbconvert_exporter": "python",
   "pygments_lexer": "ipython3",
   "version": "3.12.7"
  }
 },
 "nbformat": 4,
 "nbformat_minor": 5
}
