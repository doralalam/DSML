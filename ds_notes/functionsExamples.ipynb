{
 "cells": [
  {
   "cell_type": "markdown",
   "id": "ed1366ee",
   "metadata": {},
   "source": [
    "### Functions Examples"
   ]
  },
  {
   "cell_type": "markdown",
   "id": "8f2b0c77",
   "metadata": {},
   "source": [
    "#### Example 1: Temperature Conversion"
   ]
  },
  {
   "cell_type": "code",
   "execution_count": 1,
   "id": "2db534c1",
   "metadata": {},
   "outputs": [
    {
     "name": "stdout",
     "output_type": "stream",
     "text": [
      "None\n",
      "Celsius to Fahrenheit 89.6\n",
      "Fahrenheit to Celsius 32.0\n"
     ]
    }
   ],
   "source": [
    "def convert_temperature(temp, unit):\n",
    "    \"\"\"This function converts the temperature between Celsius and Fahrenheit\"\"\"\n",
    "    if unit.lower() == 'c':\n",
    "        return temp * 9/5 + 32  ## celsius to fahrenheit\n",
    "    elif unit.lower() == 'f':\n",
    "        return (temp-32) * 5/9  ## fahrenheit to celcius\n",
    "    else:\n",
    "        return None\n",
    "    \n",
    "print(convert_temperature(32, 'a'))\n",
    "print(f\"Celsius to Fahrenheit {convert_temperature(32, 'c')}\")\n",
    "print(f\"Fahrenheit to Celsius {convert_temperature(89.6, 'f')}\")\n"
   ]
  },
  {
   "cell_type": "markdown",
   "id": "6b161f94",
   "metadata": {},
   "source": [
    "#### Example 2: Password Strength Checker"
   ]
  },
  {
   "cell_type": "code",
   "execution_count": 3,
   "id": "5f2430d2",
   "metadata": {},
   "outputs": [
    {
     "name": "stdout",
     "output_type": "stream",
     "text": [
      "False\n",
      "True\n"
     ]
    }
   ],
   "source": [
    "def strenght_checker(password):\n",
    "    \"\"\"This function checks whether the password is strong or not\"\"\"\n",
    "    if len(password)<8:\n",
    "        return False\n",
    "    if not any(char.isdigit() for char in password):\n",
    "        return False\n",
    "    if not any(char.islower() for char in password):\n",
    "        return False\n",
    "    if not any(char.isupper() for char in password):\n",
    "        return False\n",
    "    if not any(char in '!@#$%^&*' for char in password):\n",
    "        return False\n",
    "    return True\n",
    "\n",
    "\n",
    "print(strenght_checker(\"pwd\"))\n",
    "print(strenght_checker(\"Strong1@\"))     ## This has 8 char with 1 upper, 1 lower, 1 special char, 1 digit"
   ]
  }
 ],
 "metadata": {
  "kernelspec": {
   "display_name": "base",
   "language": "python",
   "name": "python3"
  },
  "language_info": {
   "codemirror_mode": {
    "name": "ipython",
    "version": 3
   },
   "file_extension": ".py",
   "mimetype": "text/x-python",
   "name": "python",
   "nbconvert_exporter": "python",
   "pygments_lexer": "ipython3",
   "version": "3.12.7"
  }
 },
 "nbformat": 4,
 "nbformat_minor": 5
}
