{
 "cells": [
  {
   "cell_type": "markdown",
   "id": "ed1366ee",
   "metadata": {},
   "source": [
    "### Functions Examples"
   ]
  },
  {
   "cell_type": "markdown",
   "id": "8f2b0c77",
   "metadata": {},
   "source": [
    "#### Example 1: Temperature Conversion"
   ]
  },
  {
   "cell_type": "code",
   "execution_count": 1,
   "id": "2db534c1",
   "metadata": {},
   "outputs": [
    {
     "name": "stdout",
     "output_type": "stream",
     "text": [
      "None\n",
      "Celsius to Fahrenheit 89.6\n",
      "Fahrenheit to Celsius 32.0\n"
     ]
    }
   ],
   "source": [
    "def convert_temperature(temp, unit):\n",
    "    \"\"\"This function converts the temperature between Celsius and Fahrenheit\"\"\"\n",
    "    if unit.lower() == 'c':\n",
    "        return temp * 9/5 + 32  ## celsius to fahrenheit\n",
    "    elif unit.lower() == 'f':\n",
    "        return (temp-32) * 5/9  ## fahrenheit to celcius\n",
    "    else:\n",
    "        return None\n",
    "    \n",
    "print(convert_temperature(32, 'a'))\n",
    "print(f\"Celsius to Fahrenheit {convert_temperature(32, 'c')}\")\n",
    "print(f\"Fahrenheit to Celsius {convert_temperature(89.6, 'f')}\")\n"
   ]
  },
  {
   "cell_type": "markdown",
   "id": "6b161f94",
   "metadata": {},
   "source": [
    "#### Example 2: Password Strength Checker"
   ]
  },
  {
   "cell_type": "code",
   "execution_count": 3,
   "id": "5f2430d2",
   "metadata": {},
   "outputs": [
    {
     "name": "stdout",
     "output_type": "stream",
     "text": [
      "False\n",
      "True\n"
     ]
    }
   ],
   "source": [
    "def strenght_checker(password):\n",
    "    \"\"\"This function checks whether the password is strong or not\"\"\"\n",
    "    if len(password)<8:\n",
    "        return False\n",
    "    if not any(char.isdigit() for char in password):\n",
    "        return False\n",
    "    if not any(char.islower() for char in password):\n",
    "        return False\n",
    "    if not any(char.isupper() for char in password):\n",
    "        return False\n",
    "    if not any(char in '!@#$%^&*' for char in password):\n",
    "        return False\n",
    "    return True\n",
    "\n",
    "\n",
    "print(strenght_checker(\"pwd\"))\n",
    "print(strenght_checker(\"Strong1@\"))     ## This has 8 char with 1 upper, 1 lower, 1 special char, 1 digit"
   ]
  },
  {
   "cell_type": "markdown",
   "id": "5c7a403b",
   "metadata": {},
   "source": [
    "#### Example 3: Calculate the total cost of items in a shopping cart"
   ]
  },
  {
   "cell_type": "code",
   "execution_count": 11,
   "id": "e0fd2217",
   "metadata": {},
   "outputs": [
    {
     "name": "stdout",
     "output_type": "stream",
     "text": [
      "Total Cart Value is 640\n"
     ]
    }
   ],
   "source": [
    "def calculate_total_cost(cart):\n",
    "    \"\"\"This function gives the cost of total items within the cart\"\"\"\n",
    "    total_cost = 0\n",
    "    for item in cart:\n",
    "        total_cost += item[\"price\"]*item[\"quantity\"]\n",
    "    return total_cost\n",
    "\n",
    "cart = [\n",
    "    {\"name\" : \"Apple\", \"price\" : 25, \"quantity\" : 4},\n",
    "    {\"name\" : \"Banana\", \"price\" : 5, \"quantity\" : 12},\n",
    "    {\"name\" : \"Mango\", \"price\" : 80, \"quantity\" : 6}\n",
    "]\n",
    "\n",
    "print(f\"Total Cart Value is {calculate_total_cost(cart)}\")"
   ]
  },
  {
   "cell_type": "markdown",
   "id": "590fdf1d",
   "metadata": {},
   "source": [
    "#### Example 4: Check is a string is palindrome\n"
   ]
  },
  {
   "cell_type": "code",
   "execution_count": 26,
   "id": "8a0d32f2",
   "metadata": {},
   "outputs": [
    {
     "name": "stdout",
     "output_type": "stream",
     "text": [
      "False\n",
      "True\n",
      "True\n"
     ]
    }
   ],
   "source": [
    "def is_palindrome(word):\n",
    "    \"\"\"This function checks whether the given string is a palindrome or not\"\"\"\n",
    "    word = word.lower().replace(\" \",\"\")\n",
    "    return word == word[::-1]\n",
    "    ## word is the original string converted to lower case\n",
    "    ## word[::-1] is the reversed string\n",
    "\n",
    "print(is_palindrome(\"Hello\"))\n",
    "print(is_palindrome(\"Mam\"))\n",
    "print(is_palindrome(\"A man a plan a canal Panama\"))"
   ]
  },
  {
   "cell_type": "markdown",
   "id": "cf0cc440",
   "metadata": {},
   "source": [
    "#### Example 5: Calculate the factorials of a number using recursion"
   ]
  },
  {
   "cell_type": "code",
   "execution_count": 31,
   "id": "3658ea0d",
   "metadata": {},
   "outputs": [
    {
     "name": "stdout",
     "output_type": "stream",
     "text": [
      "Factorial is 120\n"
     ]
    }
   ],
   "source": [
    "def factorial(num):\n",
    "    \"\"\"This function gives the factorial of a number\"\"\"\n",
    "    if num==0:\n",
    "        return 1\n",
    "    else:\n",
    "        return num * factorial(num-1)\n",
    "\n",
    "print(f\"Factorial is {factorial(5)}\")"
   ]
  },
  {
   "cell_type": "markdown",
   "id": "72c2d143",
   "metadata": {},
   "source": [
    "#### Example 6: A function to read a file and count the frequency of each word"
   ]
  },
  {
   "cell_type": "code",
   "execution_count": null,
   "id": "09f9589d",
   "metadata": {},
   "outputs": [
    {
     "name": "stdout",
     "output_type": "stream",
     "text": [
      "{'hello': 2, 'world': 2, 'how': 1, 'are': 1, 'you': 1, 'my': 2, 'name': 2, 'is': 2, 'lalam': 2}\n"
     ]
    }
   ],
   "source": [
    "def count_word_frequency(filepath):\n",
    "    word_count = {}\n",
    "    with open(filepath,'r') as file:\n",
    "        for line in file:\n",
    "            words = line.split()\n",
    "            for word in words:\n",
    "                word = word.lower()\n",
    "                ## short form for the above operation   word_count[word] = word_count.get(word,0)+1\n",
    "                if word in word_count:\n",
    "                    word_count[word]+=1\n",
    "                else:\n",
    "                    word_count[word]=1\n",
    "    return word_count\n",
    "\n",
    "\n",
    "filepath = 'sample.txt'             ## text file is in the same folder as code file is. So, the file name is enough for now\n",
    "print(count_word_frequency(filepath))"
   ]
  },
  {
   "cell_type": "markdown",
   "id": "5f550c28",
   "metadata": {},
   "source": [
    "#### Example 7: Validate the Email Address"
   ]
  },
  {
   "cell_type": "code",
   "execution_count": 56,
   "id": "f6e2b1b5",
   "metadata": {},
   "outputs": [
    {
     "name": "stdout",
     "output_type": "stream",
     "text": [
      "True\n",
      "False\n"
     ]
    }
   ],
   "source": [
    "## import regular expression package\n",
    "import re\n",
    "def is_valid_email(email):\n",
    "    \"\"\"This function checks if the email is valid\"\"\"\n",
    "    pattern = r'^[a-zA-Z0-9]+@[a-zA-Z0-9]+.[a-zA-Z0-9]+$'\n",
    "    return re.match(pattern, email) is not None\n",
    "\n",
    "print(is_valid_email('lalal911@gmail.com'))\n",
    "print(is_valid_email('rahul-gmail'))"
   ]
  }
 ],
 "metadata": {
  "kernelspec": {
   "display_name": "base",
   "language": "python",
   "name": "python3"
  },
  "language_info": {
   "codemirror_mode": {
    "name": "ipython",
    "version": 3
   },
   "file_extension": ".py",
   "mimetype": "text/x-python",
   "name": "python",
   "nbconvert_exporter": "python",
   "pygments_lexer": "ipython3",
   "version": "3.12.7"
  }
 },
 "nbformat": 4,
 "nbformat_minor": 5
}
