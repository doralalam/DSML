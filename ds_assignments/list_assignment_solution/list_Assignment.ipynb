{
 "cells": [
  {
   "cell_type": "markdown",
   "metadata": {},
   "source": [
    "# Module 3: Data Structures Assignments\n",
    "## Lesson 3.1: Lists\n",
    "### Assignment 1: Creating and Accessing Lists\n",
    "\n",
    "Create a list of the first 20 positive integers. Print the list.\n",
    "\n",
    "### Assignment 2: Accessing List Elements\n",
    "\n",
    "Print the first, middle, and last elements of the list created in Assignment 1.\n",
    "\n",
    "### Assignment 3: List Slicing\n",
    "\n",
    "Print the first five elements, the last five elements, and the elements from index 5 to 15 of the list created in Assignment 1.\n",
    "\n",
    "### Assignment 4: List Comprehensions\n",
    "\n",
    "Create a new list containing the squares of the first 10 positive integers using a list comprehension. Print the new list.\n",
    "\n",
    "### Assignment 5: Filtering Lists\n",
    "\n",
    "Create a new list containing only the even numbers from the list created in Assignment 1 using a list comprehension. Print the new list.\n",
    "\n",
    "### Assignment 6: List Methods\n",
    "\n",
    "Create a list of random numbers and sort it in ascending and descending order. Remove the duplicates from the list and print the modified list.\n",
    "\n",
    "### Assignment 7: Nested Lists\n",
    "\n",
    "Create a nested list representing a 3x3 matrix and print the matrix. Access and print the element at the second row and third column.\n",
    "\n",
    "### Assignment 8: List of Dictionaries\n",
    "\n",
    "Create a list of dictionaries where each dictionary represents a student with keys 'name' and 'score'. Sort the list of dictionaries by the 'score' in descending order and print the sorted list.\n",
    "\n",
    "### Assignment 9: Matrix Transposition\n",
    "\n",
    "Write a function that takes a 3x3 matrix (nested list) as input and returns its transpose. Print the original and transposed matrices.\n",
    "\n",
    "### Assignment 10: Flattening a Nested List\n",
    "\n",
    "Write a function that takes a nested list and flattens it into a single list. Print the original and flattened lists.\n",
    "\n",
    "### Assignment 11: List Manipulation\n",
    "\n",
    "Create a list of the first 10 positive integers. Remove the elements at indices 2, 4, and 6, and insert the element '99' at index 5. Print the modified list.\n",
    "\n",
    "### Assignment 12: List Zipping\n",
    "\n",
    "Create two lists of the same length. Use the `zip` function to combine these lists into a list of tuples and print the result.\n",
    "\n",
    "### Assignment 13: List Reversal\n",
    "\n",
    "Write a function that takes a list and returns a new list with the elements in reverse order. Print the original and reversed lists.\n",
    "\n",
    "### Assignment 14: List Rotation\n",
    "\n",
    "Write a function that rotates a list by n positions. Print the original and rotated lists.\n",
    "\n",
    "### Assignment 15: List Intersection\n",
    "\n",
    "Write a function that takes two lists and returns a new list containing only the elements that are present in both lists. Print the intersected list."
   ]
  },
  {
   "cell_type": "markdown",
   "id": "a1782d16",
   "metadata": {},
   "source": [
    "### Assignment 1: Creating and Accessing Lists\n",
    "\n",
    "Create a list of the first 20 positive integers. Print the list.\n"
   ]
  },
  {
   "cell_type": "code",
   "execution_count": 1,
   "metadata": {},
   "outputs": [
    {
     "name": "stdout",
     "output_type": "stream",
     "text": [
      "[1, 2, 3, 4, 5, 6, 7, 8, 9, 10, 11, 12, 13, 14, 15, 16, 17, 18, 19, 20]\n",
      "<class 'list'>\n"
     ]
    }
   ],
   "source": [
    "list = [1,2,3,4,5,6,7,8,9,10,11,12,13,14,15,16,17,18,19,20]\n",
    "print(list)\n",
    "print(type(list))"
   ]
  },
  {
   "cell_type": "markdown",
   "id": "d638915b",
   "metadata": {},
   "source": [
    "### Assignment 2: Accessing List Elements\n",
    "\n",
    "Print the first, middle, and last elements of the list created in Assignment 1."
   ]
  },
  {
   "cell_type": "code",
   "execution_count": 10,
   "id": "2cf47ac4",
   "metadata": {},
   "outputs": [
    {
     "name": "stdout",
     "output_type": "stream",
     "text": [
      "1\n",
      "20\n",
      "11\n"
     ]
    }
   ],
   "source": [
    "print(list[0])\n",
    "print(list[-1])\n",
    "print(list[len(list)//2])"
   ]
  },
  {
   "cell_type": "markdown",
   "id": "c14ffff4",
   "metadata": {},
   "source": [
    "### Assignment 3: List Slicing\n",
    "\n",
    "Print the first five elements, the last five elements, and the elements from index 5 to 15 of the list created in Assignment 1."
   ]
  },
  {
   "cell_type": "code",
   "execution_count": 17,
   "id": "60c1e96a",
   "metadata": {},
   "outputs": [
    {
     "name": "stdout",
     "output_type": "stream",
     "text": [
      "[1, 2, 3, 4, 5]\n",
      "[16, 17, 18, 19, 20]\n",
      "[6, 7, 8, 9, 10, 11, 12, 13, 14, 15, 16]\n"
     ]
    }
   ],
   "source": [
    "print(list[0:5])\n",
    "print(list[-5:])\n",
    "print(list[5:16])"
   ]
  },
  {
   "cell_type": "markdown",
   "id": "a36170d4",
   "metadata": {},
   "source": [
    "### Assignment 4: List Comprehensions\n",
    "\n",
    "Create a new list containing the squares of the first 10 positive integers using a list comprehension. Print the new list."
   ]
  },
  {
   "cell_type": "code",
   "execution_count": 18,
   "id": "d9585dad",
   "metadata": {},
   "outputs": [
    {
     "name": "stdout",
     "output_type": "stream",
     "text": [
      "[1, 4, 9, 16, 25, 36, 49, 64, 81, 100]\n",
      "<class 'list'>\n"
     ]
    }
   ],
   "source": [
    "new_list = [x**2 for x in range(1,11)]\n",
    "print(new_list)\n",
    "print(type(new_list))"
   ]
  },
  {
   "cell_type": "markdown",
   "id": "547c287b",
   "metadata": {},
   "source": [
    "### Assignment 5: Filtering Lists\n",
    "\n",
    "Create a new list containing only the even numbers from the list created in Assignment 1 using a list comprehension. Print the new list."
   ]
  },
  {
   "cell_type": "code",
   "execution_count": 21,
   "id": "577fb86b",
   "metadata": {},
   "outputs": [
    {
     "name": "stdout",
     "output_type": "stream",
     "text": [
      "[2, 4, 6, 8, 10, 12, 14, 16, 18, 20]\n"
     ]
    }
   ],
   "source": [
    "even_list = [val for val in list if val%2 == 0]\n",
    "print(even_list)"
   ]
  },
  {
   "cell_type": "markdown",
   "id": "052ec046",
   "metadata": {},
   "source": [
    "### Assignment 6: List Methods\n",
    "\n",
    "Create a list of random numbers and sort it in ascending and descending order. Remove the duplicates from the list and print the modified list."
   ]
  },
  {
   "cell_type": "code",
   "execution_count": 9,
   "id": "26a8b316",
   "metadata": {},
   "outputs": [
    {
     "name": "stdout",
     "output_type": "stream",
     "text": [
      "[7, 12, 12, 17, 3, 18, 17, 4, 18, 5]\n",
      "[3, 4, 5, 7, 12, 12, 17, 17, 18, 18]\n",
      "[18, 18, 17, 17, 12, 12, 7, 5, 4, 3]\n",
      "[3, 4, 5, 7, 12, 17, 18]\n"
     ]
    }
   ],
   "source": [
    "import random\n",
    "random_list = [random.randint(1,20) for _ in range(10)]\n",
    "# random.randint() gives only 1 output, to generate 10 random numbers, we used iteration for 10 times using list comprehension\n",
    "print(random_list)\n",
    "print(sorted(random_list))\n",
    "print(sorted(random_list, reverse=\"True\"))\n",
    "print(list(set(random_list)))"
   ]
  },
  {
   "cell_type": "markdown",
   "id": "f7e749d6",
   "metadata": {},
   "source": [
    "### Assignment 7: Nested Lists\n",
    "\n",
    "Create a nested list representing a 3x3 matrix and print the matrix. Access and print the element at the second row and third column."
   ]
  },
  {
   "cell_type": "code",
   "execution_count": 20,
   "id": "71bfed2b",
   "metadata": {},
   "outputs": [
    {
     "name": "stdout",
     "output_type": "stream",
     "text": [
      "[[1, 2, 3], [4, 5, 6], [7, 8, 9]]\n",
      "6\n"
     ]
    }
   ],
   "source": [
    "import random\n",
    "nested_list = [[1,2,3],[4,5,6],[7,8,9]]\n",
    "print(nested_list)\n",
    "print(nested_list[1][2])"
   ]
  },
  {
   "cell_type": "markdown",
   "id": "3efdf1e7",
   "metadata": {},
   "source": [
    "### Assignment 8: List of Dictionaries\n",
    "\n",
    "Create a list of dictionaries where each dictionary represents a student with keys 'name' and 'score'. Sort the list of dictionaries by the 'score' in descending order and print the sorted list."
   ]
  },
  {
   "cell_type": "code",
   "execution_count": null,
   "id": "d09ad160",
   "metadata": {},
   "outputs": [
    {
     "name": "stdout",
     "output_type": "stream",
     "text": [
      "{'name': 'ram', 'score': 8}\n",
      "{'name': 'sai', 'score': 9}\n",
      "{'name': 'Dora', 'score': 10}\n"
     ]
    }
   ],
   "source": [
    "students = [\n",
    "    {'name':'Dora','score':10},\n",
    "    {'name':'sai','score':9},\n",
    "    {'name':'ram','score':8}]\n",
    "sorted_students = sorted(students, key = lambda x: x['score'], reverse = False)\n",
    "# key is the element used to specify the attribute on which the sorting operation to be performed when there are multiple fields\n",
    "# using the lambda function (anonymous function) we have selected x['score']\n",
    "# so sorting will be performed based on score field\n",
    "# reverse = true indicates descending order, false indicates ascending order\n",
    "for student in sorted_students:\n",
    "    print(student)\n",
    "\n"
   ]
  },
  {
   "cell_type": "markdown",
   "id": "d4d4328f",
   "metadata": {},
   "source": [
    "### Assignment 9: Matrix Transposition\n",
    "\n",
    "Write a function that takes a 3x3 matrix (nested list) as input and returns its transpose. Print the original and transposed matrices."
   ]
  },
  {
   "cell_type": "code",
   "execution_count": 35,
   "id": "b63a42bf",
   "metadata": {},
   "outputs": [
    {
     "name": "stdout",
     "output_type": "stream",
     "text": [
      "Original Matrix\n",
      "[1, 2, 3]\n",
      "[4, 5, 6]\n",
      "[7, 8, 9]\n",
      "Transposed Matrix\n",
      "[1, 4, 7]\n",
      "[2, 5, 8]\n",
      "[3, 6, 9]\n"
     ]
    }
   ],
   "source": [
    "matrix = [[1,2,3],[4,5,6],[7,8,9]]\n",
    "\n",
    "def transpose(*input):\n",
    "    return [[matrix[j][i] for j in range(3)] for i in range(3)]\n",
    "    # j iterates first then i iterates\n",
    "    # i.e., j is the inner loop and i is the outerloop\n",
    "\n",
    "print(\"Original Matrix\")\n",
    "for row in matrix:\n",
    "    print(row)\n",
    "transposed = transpose(matrix)\n",
    "print(\"Transposed Matrix\")\n",
    "for row in transposed:\n",
    "    print(row)"
   ]
  },
  {
   "cell_type": "markdown",
   "id": "37d884d9",
   "metadata": {},
   "source": [
    "### Assignment 10: Flattening a Nested List\n",
    "\n",
    "Write a function that takes a nested list and flattens it into a single list. Print the original and flattened lists."
   ]
  },
  {
   "cell_type": "code",
   "execution_count": 67,
   "id": "54fbe974",
   "metadata": {},
   "outputs": [
    {
     "name": "stdout",
     "output_type": "stream",
     "text": [
      "Original List\n",
      "[[1, 2, 3], ['a', 'b', 'c', 'd'], [5, 6, 7]]\n",
      "Flattened List\n",
      "[1, 2, 3, 'a', 'b', 'c', 'd', 5, 6, 7]\n"
     ]
    }
   ],
   "source": [
    "# using for loop\n",
    "\n",
    "def flattened(input):\n",
    "    flattened_list = []\n",
    "    for item in input:\n",
    "        for sub_items in item:\n",
    "            flattened_list.append(sub_items)\n",
    "    return flattened_list\n",
    "\n",
    "nested_lst = [[1,2,3],['a','b','c','d'],[5,6,7]]\n",
    "print(\"Original List\")\n",
    "print(nested_lst)\n",
    "print(\"Flattened List\")\n",
    "print(flattened(nested_lst))"
   ]
  },
  {
   "cell_type": "code",
   "execution_count": 66,
   "id": "4fc723c8",
   "metadata": {},
   "outputs": [
    {
     "name": "stdout",
     "output_type": "stream",
     "text": [
      "[1, 2, 3, 'a', 'b', 'c', 'd', 5, 6, 7]\n"
     ]
    }
   ],
   "source": [
    "# using list comprehension\n",
    "\n",
    "def flat_list(input):\n",
    "    flattened_list = [sublist for list in input for sublist in list]\n",
    "    return flattened_list\n",
    "\n",
    "print(flat_list(nested_lst))"
   ]
  },
  {
   "cell_type": "markdown",
   "id": "7bec18d5",
   "metadata": {},
   "source": [
    "### Assignment 11: List Manipulation\n",
    "\n",
    "Create a list of the first 10 positive integers. Remove the elements at indices 2, 4, and 6, and insert the element '99' at index 5. Print the modified list."
   ]
  },
  {
   "cell_type": "code",
   "execution_count": 85,
   "id": "7f6c8e53",
   "metadata": {},
   "outputs": [
    {
     "name": "stdout",
     "output_type": "stream",
     "text": [
      "[1, 2, 4, 6, 8, 99, 9, 10]\n"
     ]
    }
   ],
   "source": [
    "integer_list = [1,2,3,4,5,6,7,8,9,10]\n",
    "integer_list.pop(6)\n",
    "# we can us either pop or del function\n",
    "# but del function is better suitable for this scenario for memory management\n",
    "del integer_list[4]\n",
    "del integer_list[2]\n",
    "integer_list.insert(5,99)\n",
    "print(integer_list)"
   ]
  },
  {
   "cell_type": "markdown",
   "id": "5a80b24b",
   "metadata": {},
   "source": [
    "### Assignment 12: List Zipping\n",
    "\n",
    "Create two lists of the same length. Use the `zip` function to combine these lists into a list of tuples and print the result.\n"
   ]
  },
  {
   "cell_type": "code",
   "execution_count": 89,
   "id": "cbbaf53f",
   "metadata": {},
   "outputs": [
    {
     "name": "stdout",
     "output_type": "stream",
     "text": [
      "[(1, 'a'), (2, 'b'), (3, 'c'), (4, 'd'), (5, 'e')]\n",
      "[(5, 'x'), (6, 'y')]\n"
     ]
    }
   ],
   "source": [
    "lst1 = [1,2,3,4,5]\n",
    "lst2 = ['a','b','c','d','e']\n",
    "print(list(zip(lst1,lst2)))\n",
    "# list of tuples expires when the shortest list expires \n",
    "# example\n",
    "lst3 = [5,6]\n",
    "lst4 = ['x','y','z']\n",
    "print(list(zip(lst3,lst4)))\n",
    "# there is no tuple with z since the lst3 has expired"
   ]
  },
  {
   "cell_type": "markdown",
   "id": "a8ea2341",
   "metadata": {},
   "source": [
    "### Assignment 13: List Reversal\n",
    "\n",
    "Write a function that takes a list and returns a new list with the elements in reverse order. Print the original and reversed lists."
   ]
  },
  {
   "cell_type": "code",
   "execution_count": null,
   "id": "c8c06ede",
   "metadata": {},
   "outputs": [
    {
     "name": "stdout",
     "output_type": "stream",
     "text": [
      "['w', 1, 3, 6, 5, 2, 'a']\n"
     ]
    }
   ],
   "source": [
    "# using loops\n",
    "\n",
    "def reversal(input):\n",
    "    output = []\n",
    "    for i in range(len(input)):\n",
    "        output.append(input.pop())\n",
    "    return output\n",
    "\n",
    "lst = ['a',2,5,6,3,1,'w']\n",
    "print(reversal(lst))"
   ]
  },
  {
   "cell_type": "code",
   "execution_count": 95,
   "id": "307435b0",
   "metadata": {},
   "outputs": [
    {
     "name": "stdout",
     "output_type": "stream",
     "text": [
      "[1, 2, 5, 3, 1]\n"
     ]
    }
   ],
   "source": [
    "# using list slicing\n",
    "\n",
    "def list_reversal(input):\n",
    "    return input[::-1]\n",
    "\n",
    "lst = [1,3,5,2,1]\n",
    "print(list_reversal(lst))"
   ]
  },
  {
   "cell_type": "markdown",
   "id": "343b6be8",
   "metadata": {},
   "source": [
    "### Assignment 14: List Rotation\n",
    "\n",
    "Write a function that rotates a list by n positions. Print the original and rotated lists."
   ]
  },
  {
   "cell_type": "code",
   "execution_count": 106,
   "id": "7360d334",
   "metadata": {},
   "outputs": [
    {
     "name": "stdout",
     "output_type": "stream",
     "text": [
      "Original List : [1, 2, 3, 4, 5, 6, 7, 8, 9]\n",
      "Rotated list by 4 positions : [5, 6, 7, 8, 9, 1, 2, 3, 4]\n"
     ]
    }
   ],
   "source": [
    "def rotation(input, n):\n",
    "    return input[4:]+input[:4]\n",
    "\n",
    "lst = [1,2,3,4,5,6,7,8,9]\n",
    "positions = 4\n",
    "print(f\"Original List : {lst}\")\n",
    "print(f\"Rotated list by {positions} positions : {rotation(lst, positions)}\")"
   ]
  },
  {
   "cell_type": "markdown",
   "id": "7c8d7456",
   "metadata": {},
   "source": [
    "### Assignment 15: List Intersection\n",
    "\n",
    "Write a function that takes two lists and returns a new list containing only the elements that are present in both lists. Print the intersected list."
   ]
  },
  {
   "cell_type": "code",
   "execution_count": 117,
   "id": "14e5b8ed",
   "metadata": {},
   "outputs": [
    {
     "name": "stdout",
     "output_type": "stream",
     "text": [
      "Intersected List [3, 4, 5]\n"
     ]
    }
   ],
   "source": [
    "# using loops\n",
    "\n",
    "def intersection(lst1, lst2):\n",
    "    new_list = []\n",
    "    for i in lst1:\n",
    "        for j in lst2:\n",
    "            if i == j:\n",
    "                new_list.append(i)\n",
    "    return new_list\n",
    "\n",
    "lst1 = [1,2,3,4,5]\n",
    "lst2 = [3,4,5,6,7]\n",
    "print(f\"Intersected List {intersection(lst1, lst2)}\")"
   ]
  },
  {
   "cell_type": "code",
   "execution_count": 116,
   "id": "029f9c5c",
   "metadata": {},
   "outputs": [
    {
     "name": "stdout",
     "output_type": "stream",
     "text": [
      "Intersected List [5, 7]\n"
     ]
    }
   ],
   "source": [
    "# using list comprehension\n",
    "\n",
    "def intersection(lst1, lst2):\n",
    "    return [i for i in lst1 for j in lst2 if i==j]\n",
    "\n",
    "lst1 = [1,3,5,7]\n",
    "lst2 = [5,7,8,9]\n",
    "print(f\"Intersected List {intersection(lst1, lst2)}\")"
   ]
  }
 ],
 "metadata": {
  "kernelspec": {
   "display_name": "base",
   "language": "python",
   "name": "python3"
  },
  "language_info": {
   "codemirror_mode": {
    "name": "ipython",
    "version": 3
   },
   "file_extension": ".py",
   "mimetype": "text/x-python",
   "name": "python",
   "nbconvert_exporter": "python",
   "pygments_lexer": "ipython3",
   "version": "3.12.7"
  }
 },
 "nbformat": 4,
 "nbformat_minor": 5
}
